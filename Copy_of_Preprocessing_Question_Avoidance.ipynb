{
  "nbformat": 4,
  "nbformat_minor": 0,
  "metadata": {
    "colab": {
      "provenance": [],
      "collapsed_sections": [
        "Fjb4-mAYULKS",
        "B_ravtTGUR1q",
        "fCKESdtso1iL",
        "zeD_lVOr7wxs"
      ]
    },
    "kernelspec": {
      "name": "python3",
      "display_name": "Python 3"
    },
    "language_info": {
      "name": "python"
    }
  },
  "cells": [
    {
      "cell_type": "markdown",
      "source": [
        "# Install"
      ],
      "metadata": {
        "id": "Fjb4-mAYULKS"
      }
    },
    {
      "cell_type": "code",
      "execution_count": null,
      "metadata": {
        "id": "9p0TxNHPS_WC",
        "colab": {
          "base_uri": "https://localhost:8080/"
        },
        "outputId": "f2888b83-4d3d-4b3a-8054-d53cdd26677c"
      },
      "outputs": [
        {
          "output_type": "stream",
          "name": "stdout",
          "text": [
            "Collecting PyMuPDF\n",
            "  Downloading pymupdf-1.26.1-cp39-abi3-manylinux_2_28_x86_64.whl.metadata (3.4 kB)\n",
            "Collecting bertopic\n",
            "  Downloading bertopic-0.17.0-py3-none-any.whl.metadata (23 kB)\n",
            "Requirement already satisfied: hdbscan>=0.8.29 in /usr/local/lib/python3.11/dist-packages (from bertopic) (0.8.40)\n",
            "Requirement already satisfied: numpy>=1.20.0 in /usr/local/lib/python3.11/dist-packages (from bertopic) (2.0.2)\n",
            "Requirement already satisfied: pandas>=1.1.5 in /usr/local/lib/python3.11/dist-packages (from bertopic) (2.2.2)\n",
            "Requirement already satisfied: plotly>=4.7.0 in /usr/local/lib/python3.11/dist-packages (from bertopic) (5.24.1)\n",
            "Requirement already satisfied: scikit-learn>=1.0 in /usr/local/lib/python3.11/dist-packages (from bertopic) (1.6.1)\n",
            "Requirement already satisfied: sentence-transformers>=0.4.1 in /usr/local/lib/python3.11/dist-packages (from bertopic) (4.1.0)\n",
            "Requirement already satisfied: tqdm>=4.41.1 in /usr/local/lib/python3.11/dist-packages (from bertopic) (4.67.1)\n",
            "Requirement already satisfied: umap-learn>=0.5.0 in /usr/local/lib/python3.11/dist-packages (from bertopic) (0.5.7)\n",
            "Requirement already satisfied: scipy>=1.0 in /usr/local/lib/python3.11/dist-packages (from hdbscan>=0.8.29->bertopic) (1.15.3)\n",
            "Requirement already satisfied: joblib>=1.0 in /usr/local/lib/python3.11/dist-packages (from hdbscan>=0.8.29->bertopic) (1.5.1)\n",
            "Requirement already satisfied: python-dateutil>=2.8.2 in /usr/local/lib/python3.11/dist-packages (from pandas>=1.1.5->bertopic) (2.9.0.post0)\n",
            "Requirement already satisfied: pytz>=2020.1 in /usr/local/lib/python3.11/dist-packages (from pandas>=1.1.5->bertopic) (2025.2)\n",
            "Requirement already satisfied: tzdata>=2022.7 in /usr/local/lib/python3.11/dist-packages (from pandas>=1.1.5->bertopic) (2025.2)\n",
            "Requirement already satisfied: tenacity>=6.2.0 in /usr/local/lib/python3.11/dist-packages (from plotly>=4.7.0->bertopic) (8.5.0)\n",
            "Requirement already satisfied: packaging in /usr/local/lib/python3.11/dist-packages (from plotly>=4.7.0->bertopic) (24.2)\n",
            "Requirement already satisfied: threadpoolctl>=3.1.0 in /usr/local/lib/python3.11/dist-packages (from scikit-learn>=1.0->bertopic) (3.6.0)\n",
            "Requirement already satisfied: transformers<5.0.0,>=4.41.0 in /usr/local/lib/python3.11/dist-packages (from sentence-transformers>=0.4.1->bertopic) (4.52.4)\n",
            "Requirement already satisfied: torch>=1.11.0 in /usr/local/lib/python3.11/dist-packages (from sentence-transformers>=0.4.1->bertopic) (2.6.0+cu124)\n",
            "Requirement already satisfied: huggingface-hub>=0.20.0 in /usr/local/lib/python3.11/dist-packages (from sentence-transformers>=0.4.1->bertopic) (0.33.0)\n",
            "Requirement already satisfied: Pillow in /usr/local/lib/python3.11/dist-packages (from sentence-transformers>=0.4.1->bertopic) (11.2.1)\n",
            "Requirement already satisfied: typing_extensions>=4.5.0 in /usr/local/lib/python3.11/dist-packages (from sentence-transformers>=0.4.1->bertopic) (4.14.0)\n",
            "Requirement already satisfied: numba>=0.51.2 in /usr/local/lib/python3.11/dist-packages (from umap-learn>=0.5.0->bertopic) (0.60.0)\n",
            "Requirement already satisfied: pynndescent>=0.5 in /usr/local/lib/python3.11/dist-packages (from umap-learn>=0.5.0->bertopic) (0.5.13)\n",
            "Requirement already satisfied: filelock in /usr/local/lib/python3.11/dist-packages (from huggingface-hub>=0.20.0->sentence-transformers>=0.4.1->bertopic) (3.18.0)\n",
            "Requirement already satisfied: fsspec>=2023.5.0 in /usr/local/lib/python3.11/dist-packages (from huggingface-hub>=0.20.0->sentence-transformers>=0.4.1->bertopic) (2025.3.2)\n",
            "Requirement already satisfied: pyyaml>=5.1 in /usr/local/lib/python3.11/dist-packages (from huggingface-hub>=0.20.0->sentence-transformers>=0.4.1->bertopic) (6.0.2)\n",
            "Requirement already satisfied: requests in /usr/local/lib/python3.11/dist-packages (from huggingface-hub>=0.20.0->sentence-transformers>=0.4.1->bertopic) (2.32.3)\n",
            "Requirement already satisfied: hf-xet<2.0.0,>=1.1.2 in /usr/local/lib/python3.11/dist-packages (from huggingface-hub>=0.20.0->sentence-transformers>=0.4.1->bertopic) (1.1.5)\n",
            "Requirement already satisfied: llvmlite<0.44,>=0.43.0dev0 in /usr/local/lib/python3.11/dist-packages (from numba>=0.51.2->umap-learn>=0.5.0->bertopic) (0.43.0)\n",
            "Requirement already satisfied: six>=1.5 in /usr/local/lib/python3.11/dist-packages (from python-dateutil>=2.8.2->pandas>=1.1.5->bertopic) (1.17.0)\n",
            "Requirement already satisfied: networkx in /usr/local/lib/python3.11/dist-packages (from torch>=1.11.0->sentence-transformers>=0.4.1->bertopic) (3.5)\n",
            "Requirement already satisfied: jinja2 in /usr/local/lib/python3.11/dist-packages (from torch>=1.11.0->sentence-transformers>=0.4.1->bertopic) (3.1.6)\n",
            "Collecting nvidia-cuda-nvrtc-cu12==12.4.127 (from torch>=1.11.0->sentence-transformers>=0.4.1->bertopic)\n",
            "  Downloading nvidia_cuda_nvrtc_cu12-12.4.127-py3-none-manylinux2014_x86_64.whl.metadata (1.5 kB)\n",
            "Collecting nvidia-cuda-runtime-cu12==12.4.127 (from torch>=1.11.0->sentence-transformers>=0.4.1->bertopic)\n",
            "  Downloading nvidia_cuda_runtime_cu12-12.4.127-py3-none-manylinux2014_x86_64.whl.metadata (1.5 kB)\n",
            "Collecting nvidia-cuda-cupti-cu12==12.4.127 (from torch>=1.11.0->sentence-transformers>=0.4.1->bertopic)\n",
            "  Downloading nvidia_cuda_cupti_cu12-12.4.127-py3-none-manylinux2014_x86_64.whl.metadata (1.6 kB)\n",
            "Collecting nvidia-cudnn-cu12==9.1.0.70 (from torch>=1.11.0->sentence-transformers>=0.4.1->bertopic)\n",
            "  Downloading nvidia_cudnn_cu12-9.1.0.70-py3-none-manylinux2014_x86_64.whl.metadata (1.6 kB)\n",
            "Collecting nvidia-cublas-cu12==12.4.5.8 (from torch>=1.11.0->sentence-transformers>=0.4.1->bertopic)\n",
            "  Downloading nvidia_cublas_cu12-12.4.5.8-py3-none-manylinux2014_x86_64.whl.metadata (1.5 kB)\n",
            "Collecting nvidia-cufft-cu12==11.2.1.3 (from torch>=1.11.0->sentence-transformers>=0.4.1->bertopic)\n",
            "  Downloading nvidia_cufft_cu12-11.2.1.3-py3-none-manylinux2014_x86_64.whl.metadata (1.5 kB)\n",
            "Collecting nvidia-curand-cu12==10.3.5.147 (from torch>=1.11.0->sentence-transformers>=0.4.1->bertopic)\n",
            "  Downloading nvidia_curand_cu12-10.3.5.147-py3-none-manylinux2014_x86_64.whl.metadata (1.5 kB)\n",
            "Collecting nvidia-cusolver-cu12==11.6.1.9 (from torch>=1.11.0->sentence-transformers>=0.4.1->bertopic)\n",
            "  Downloading nvidia_cusolver_cu12-11.6.1.9-py3-none-manylinux2014_x86_64.whl.metadata (1.6 kB)\n",
            "Collecting nvidia-cusparse-cu12==12.3.1.170 (from torch>=1.11.0->sentence-transformers>=0.4.1->bertopic)\n",
            "  Downloading nvidia_cusparse_cu12-12.3.1.170-py3-none-manylinux2014_x86_64.whl.metadata (1.6 kB)\n",
            "Requirement already satisfied: nvidia-cusparselt-cu12==0.6.2 in /usr/local/lib/python3.11/dist-packages (from torch>=1.11.0->sentence-transformers>=0.4.1->bertopic) (0.6.2)\n",
            "Requirement already satisfied: nvidia-nccl-cu12==2.21.5 in /usr/local/lib/python3.11/dist-packages (from torch>=1.11.0->sentence-transformers>=0.4.1->bertopic) (2.21.5)\n",
            "Requirement already satisfied: nvidia-nvtx-cu12==12.4.127 in /usr/local/lib/python3.11/dist-packages (from torch>=1.11.0->sentence-transformers>=0.4.1->bertopic) (12.4.127)\n",
            "Collecting nvidia-nvjitlink-cu12==12.4.127 (from torch>=1.11.0->sentence-transformers>=0.4.1->bertopic)\n",
            "  Downloading nvidia_nvjitlink_cu12-12.4.127-py3-none-manylinux2014_x86_64.whl.metadata (1.5 kB)\n",
            "Requirement already satisfied: triton==3.2.0 in /usr/local/lib/python3.11/dist-packages (from torch>=1.11.0->sentence-transformers>=0.4.1->bertopic) (3.2.0)\n",
            "Requirement already satisfied: sympy==1.13.1 in /usr/local/lib/python3.11/dist-packages (from torch>=1.11.0->sentence-transformers>=0.4.1->bertopic) (1.13.1)\n",
            "Requirement already satisfied: mpmath<1.4,>=1.1.0 in /usr/local/lib/python3.11/dist-packages (from sympy==1.13.1->torch>=1.11.0->sentence-transformers>=0.4.1->bertopic) (1.3.0)\n",
            "Requirement already satisfied: regex!=2019.12.17 in /usr/local/lib/python3.11/dist-packages (from transformers<5.0.0,>=4.41.0->sentence-transformers>=0.4.1->bertopic) (2024.11.6)\n",
            "Requirement already satisfied: tokenizers<0.22,>=0.21 in /usr/local/lib/python3.11/dist-packages (from transformers<5.0.0,>=4.41.0->sentence-transformers>=0.4.1->bertopic) (0.21.1)\n",
            "Requirement already satisfied: safetensors>=0.4.3 in /usr/local/lib/python3.11/dist-packages (from transformers<5.0.0,>=4.41.0->sentence-transformers>=0.4.1->bertopic) (0.5.3)\n",
            "Requirement already satisfied: MarkupSafe>=2.0 in /usr/local/lib/python3.11/dist-packages (from jinja2->torch>=1.11.0->sentence-transformers>=0.4.1->bertopic) (3.0.2)\n",
            "Requirement already satisfied: charset-normalizer<4,>=2 in /usr/local/lib/python3.11/dist-packages (from requests->huggingface-hub>=0.20.0->sentence-transformers>=0.4.1->bertopic) (3.4.2)\n",
            "Requirement already satisfied: idna<4,>=2.5 in /usr/local/lib/python3.11/dist-packages (from requests->huggingface-hub>=0.20.0->sentence-transformers>=0.4.1->bertopic) (3.10)\n",
            "Requirement already satisfied: urllib3<3,>=1.21.1 in /usr/local/lib/python3.11/dist-packages (from requests->huggingface-hub>=0.20.0->sentence-transformers>=0.4.1->bertopic) (2.4.0)\n",
            "Requirement already satisfied: certifi>=2017.4.17 in /usr/local/lib/python3.11/dist-packages (from requests->huggingface-hub>=0.20.0->sentence-transformers>=0.4.1->bertopic) (2025.6.15)\n",
            "Downloading pymupdf-1.26.1-cp39-abi3-manylinux_2_28_x86_64.whl (24.1 MB)\n",
            "\u001b[2K   \u001b[90m━━━━━━━━━━━━━━━━━━━━━━━━━━━━━━━━━━━━━━━━\u001b[0m \u001b[32m24.1/24.1 MB\u001b[0m \u001b[31m61.8 MB/s\u001b[0m eta \u001b[36m0:00:00\u001b[0m\n",
            "\u001b[?25hDownloading bertopic-0.17.0-py3-none-any.whl (150 kB)\n",
            "\u001b[2K   \u001b[90m━━━━━━━━━━━━━━━━━━━━━━━━━━━━━━━━━━━━━━━━\u001b[0m \u001b[32m150.6/150.6 kB\u001b[0m \u001b[31m8.4 MB/s\u001b[0m eta \u001b[36m0:00:00\u001b[0m\n",
            "\u001b[?25hDownloading nvidia_cublas_cu12-12.4.5.8-py3-none-manylinux2014_x86_64.whl (363.4 MB)\n",
            "\u001b[2K   \u001b[90m━━━━━━━━━━━━━━━━━━━━━━━━━━━━━━━━━━━━━━━━\u001b[0m \u001b[32m363.4/363.4 MB\u001b[0m \u001b[31m4.3 MB/s\u001b[0m eta \u001b[36m0:00:00\u001b[0m\n",
            "\u001b[?25hDownloading nvidia_cuda_cupti_cu12-12.4.127-py3-none-manylinux2014_x86_64.whl (13.8 MB)\n",
            "\u001b[2K   \u001b[90m━━━━━━━━━━━━━━━━━━━━━━━━━━━━━━━━━━━━━━━━\u001b[0m \u001b[32m13.8/13.8 MB\u001b[0m \u001b[31m52.4 MB/s\u001b[0m eta \u001b[36m0:00:00\u001b[0m\n",
            "\u001b[?25hDownloading nvidia_cuda_nvrtc_cu12-12.4.127-py3-none-manylinux2014_x86_64.whl (24.6 MB)\n",
            "\u001b[2K   \u001b[90m━━━━━━━━━━━━━━━━━━━━━━━━━━━━━━━━━━━━━━━━\u001b[0m \u001b[32m24.6/24.6 MB\u001b[0m \u001b[31m32.9 MB/s\u001b[0m eta \u001b[36m0:00:00\u001b[0m\n",
            "\u001b[?25hDownloading nvidia_cuda_runtime_cu12-12.4.127-py3-none-manylinux2014_x86_64.whl (883 kB)\n",
            "\u001b[2K   \u001b[90m━━━━━━━━━━━━━━━━━━━━━━━━━━━━━━━━━━━━━━━━\u001b[0m \u001b[32m883.7/883.7 kB\u001b[0m \u001b[31m43.7 MB/s\u001b[0m eta \u001b[36m0:00:00\u001b[0m\n",
            "\u001b[?25hDownloading nvidia_cudnn_cu12-9.1.0.70-py3-none-manylinux2014_x86_64.whl (664.8 MB)\n",
            "\u001b[2K   \u001b[90m━━━━━━━━━━━━━━━━━━━━━━━━━━━━━━━━━━━━━━━━\u001b[0m \u001b[32m664.8/664.8 MB\u001b[0m \u001b[31m2.9 MB/s\u001b[0m eta \u001b[36m0:00:00\u001b[0m\n",
            "\u001b[?25hDownloading nvidia_cufft_cu12-11.2.1.3-py3-none-manylinux2014_x86_64.whl (211.5 MB)\n",
            "\u001b[2K   \u001b[90m━━━━━━━━━━━━━━━━━━━━━━━━━━━━━━━━━━━━━━━━\u001b[0m \u001b[32m211.5/211.5 MB\u001b[0m \u001b[31m6.2 MB/s\u001b[0m eta \u001b[36m0:00:00\u001b[0m\n",
            "\u001b[?25hDownloading nvidia_curand_cu12-10.3.5.147-py3-none-manylinux2014_x86_64.whl (56.3 MB)\n",
            "\u001b[2K   \u001b[90m━━━━━━━━━━━━━━━━━━━━━━━━━━━━━━━━━━━━━━━━\u001b[0m \u001b[32m56.3/56.3 MB\u001b[0m \u001b[31m10.9 MB/s\u001b[0m eta \u001b[36m0:00:00\u001b[0m\n",
            "\u001b[?25hDownloading nvidia_cusolver_cu12-11.6.1.9-py3-none-manylinux2014_x86_64.whl (127.9 MB)\n",
            "\u001b[2K   \u001b[90m━━━━━━━━━━━━━━━━━━━━━━━━━━━━━━━━━━━━━━━━\u001b[0m \u001b[32m127.9/127.9 MB\u001b[0m \u001b[31m7.3 MB/s\u001b[0m eta \u001b[36m0:00:00\u001b[0m\n",
            "\u001b[?25hDownloading nvidia_cusparse_cu12-12.3.1.170-py3-none-manylinux2014_x86_64.whl (207.5 MB)\n",
            "\u001b[2K   \u001b[90m━━━━━━━━━━━━━━━━━━━━━━━━━━━━━━━━━━━━━━━━\u001b[0m \u001b[32m207.5/207.5 MB\u001b[0m \u001b[31m6.4 MB/s\u001b[0m eta \u001b[36m0:00:00\u001b[0m\n",
            "\u001b[?25hDownloading nvidia_nvjitlink_cu12-12.4.127-py3-none-manylinux2014_x86_64.whl (21.1 MB)\n",
            "\u001b[2K   \u001b[90m━━━━━━━━━━━━━━━━━━━━━━━━━━━━━━━━━━━━━━━━\u001b[0m \u001b[32m21.1/21.1 MB\u001b[0m \u001b[31m69.0 MB/s\u001b[0m eta \u001b[36m0:00:00\u001b[0m\n",
            "\u001b[?25hInstalling collected packages: PyMuPDF, nvidia-nvjitlink-cu12, nvidia-curand-cu12, nvidia-cufft-cu12, nvidia-cuda-runtime-cu12, nvidia-cuda-nvrtc-cu12, nvidia-cuda-cupti-cu12, nvidia-cublas-cu12, nvidia-cusparse-cu12, nvidia-cudnn-cu12, nvidia-cusolver-cu12, bertopic\n",
            "  Attempting uninstall: nvidia-nvjitlink-cu12\n",
            "    Found existing installation: nvidia-nvjitlink-cu12 12.5.82\n",
            "    Uninstalling nvidia-nvjitlink-cu12-12.5.82:\n",
            "      Successfully uninstalled nvidia-nvjitlink-cu12-12.5.82\n",
            "  Attempting uninstall: nvidia-curand-cu12\n",
            "    Found existing installation: nvidia-curand-cu12 10.3.6.82\n",
            "    Uninstalling nvidia-curand-cu12-10.3.6.82:\n",
            "      Successfully uninstalled nvidia-curand-cu12-10.3.6.82\n",
            "  Attempting uninstall: nvidia-cufft-cu12\n",
            "    Found existing installation: nvidia-cufft-cu12 11.2.3.61\n",
            "    Uninstalling nvidia-cufft-cu12-11.2.3.61:\n",
            "      Successfully uninstalled nvidia-cufft-cu12-11.2.3.61\n",
            "  Attempting uninstall: nvidia-cuda-runtime-cu12\n",
            "    Found existing installation: nvidia-cuda-runtime-cu12 12.5.82\n",
            "    Uninstalling nvidia-cuda-runtime-cu12-12.5.82:\n",
            "      Successfully uninstalled nvidia-cuda-runtime-cu12-12.5.82\n",
            "  Attempting uninstall: nvidia-cuda-nvrtc-cu12\n",
            "    Found existing installation: nvidia-cuda-nvrtc-cu12 12.5.82\n",
            "    Uninstalling nvidia-cuda-nvrtc-cu12-12.5.82:\n",
            "      Successfully uninstalled nvidia-cuda-nvrtc-cu12-12.5.82\n",
            "  Attempting uninstall: nvidia-cuda-cupti-cu12\n",
            "    Found existing installation: nvidia-cuda-cupti-cu12 12.5.82\n",
            "    Uninstalling nvidia-cuda-cupti-cu12-12.5.82:\n",
            "      Successfully uninstalled nvidia-cuda-cupti-cu12-12.5.82\n",
            "  Attempting uninstall: nvidia-cublas-cu12\n",
            "    Found existing installation: nvidia-cublas-cu12 12.5.3.2\n",
            "    Uninstalling nvidia-cublas-cu12-12.5.3.2:\n",
            "      Successfully uninstalled nvidia-cublas-cu12-12.5.3.2\n",
            "  Attempting uninstall: nvidia-cusparse-cu12\n",
            "    Found existing installation: nvidia-cusparse-cu12 12.5.1.3\n",
            "    Uninstalling nvidia-cusparse-cu12-12.5.1.3:\n",
            "      Successfully uninstalled nvidia-cusparse-cu12-12.5.1.3\n",
            "  Attempting uninstall: nvidia-cudnn-cu12\n",
            "    Found existing installation: nvidia-cudnn-cu12 9.3.0.75\n",
            "    Uninstalling nvidia-cudnn-cu12-9.3.0.75:\n",
            "      Successfully uninstalled nvidia-cudnn-cu12-9.3.0.75\n",
            "  Attempting uninstall: nvidia-cusolver-cu12\n",
            "    Found existing installation: nvidia-cusolver-cu12 11.6.3.83\n",
            "    Uninstalling nvidia-cusolver-cu12-11.6.3.83:\n",
            "      Successfully uninstalled nvidia-cusolver-cu12-11.6.3.83\n",
            "Successfully installed PyMuPDF-1.26.1 bertopic-0.17.0 nvidia-cublas-cu12-12.4.5.8 nvidia-cuda-cupti-cu12-12.4.127 nvidia-cuda-nvrtc-cu12-12.4.127 nvidia-cuda-runtime-cu12-12.4.127 nvidia-cudnn-cu12-9.1.0.70 nvidia-cufft-cu12-11.2.1.3 nvidia-curand-cu12-10.3.5.147 nvidia-cusolver-cu12-11.6.1.9 nvidia-cusparse-cu12-12.3.1.170 nvidia-nvjitlink-cu12-12.4.127\n"
          ]
        }
      ],
      "source": [
        "!pip install PyMuPDF bertopic"
      ]
    },
    {
      "cell_type": "markdown",
      "source": [
        "# Import Lib"
      ],
      "metadata": {
        "id": "B_ravtTGUR1q"
      }
    },
    {
      "cell_type": "code",
      "source": [
        "import fitz\n",
        "import os\n",
        "import re\n",
        "from google import genai\n",
        "import json\n",
        "from zipfile import ZipFile\n",
        "import ast\n",
        "import zipfile\n",
        "from IPython.display import clear_output\n",
        "from bertopic import BERTopic\n",
        "from sentence_transformers import SentenceTransformer\n",
        "import pandas as pd"
      ],
      "metadata": {
        "id": "pD0eXS09UBz1"
      },
      "execution_count": null,
      "outputs": []
    },
    {
      "cell_type": "markdown",
      "source": [
        "# Data Preprocessing"
      ],
      "metadata": {
        "id": "s6gBa4AbWXJq"
      }
    },
    {
      "cell_type": "code",
      "source": [
        "path = \"/content/Transcript\""
      ],
      "metadata": {
        "id": "SepOCYk-Z0Gf"
      },
      "execution_count": null,
      "outputs": []
    },
    {
      "cell_type": "code",
      "source": [
        "with ZipFile(path+\".zip\", \"r\") as zObject:\n",
        "\n",
        "  zObject.extractall(path)"
      ],
      "metadata": {
        "id": "el7oNRLGZz8f"
      },
      "execution_count": null,
      "outputs": []
    },
    {
      "cell_type": "code",
      "source": [
        "client = genai.Client(api_key=\"\")"
      ],
      "metadata": {
        "id": "C09LN7dRC5Dw"
      },
      "execution_count": null,
      "outputs": []
    },
    {
      "cell_type": "code",
      "source": [
        "qa_patterns = [r\"^\\s*Q&A\\s*$\", r\"\\banalyst q&a\\s*\\(ceo and cfo\\)\", r\"\\bour first question\\b\", r\"\\bQUESTION AND ANSWER SECTION\\b\"]\n",
        "\n",
        "\n",
        "combined_pattern = re.compile(r'(' + '|'.join(qa_patterns) + r')', re.IGNORECASE | re.MULTILINE)"
      ],
      "metadata": {
        "id": "SezJcaqQWnSG"
      },
      "execution_count": null,
      "outputs": []
    },
    {
      "cell_type": "code",
      "source": [
        "user_prompt = \"\"\"You are a financial NLP assistant used to structure transcripts from earnings calls. Given the transcript below, remove all boilerplate text and headings and extract a structured section: Q&A.\n",
        "\n",
        "Within Q&A, identify question and answer pairs with speaker names and roles.\n",
        "\n",
        "- A single question may have multiple people answering. If so, include each responder in a separate field: `responder1`, `responder2`, etc., and their corresponding `answer1`, `answer2`, etc.\n",
        "- Omit any follow-up expressions such as \"Thank you\", \"Thanks\", or other acknowledgments that occur after an answer is given. Only include the original question and the substantive answers.\n",
        "\n",
        "Return a *valid JSON* object with this structure and nothing else:\n",
        "\n",
        "{\n",
        "  \"qa\": [\n",
        "    {\n",
        "      \"questioner\": \"Analyst\",\n",
        "      \"question\": \"What about your exposure to CRE?\",\n",
        "      \"responder1\": \"John Smith, CFO\",\n",
        "      \"answer1\": \"We’re confident in our position...\"\n",
        "    },\n",
        "    {\n",
        "      \"questioner\": \"Investor\",\n",
        "      \"question\": \"What can you tell us about the change in capital requirements?\",\n",
        "      \"responder1\": \"Steve Harris, CEO\",\n",
        "      \"answer1\": \"Our capital requirements this year...\",\n",
        "      \"responder2\": \"Jane Doe, CRO\",\n",
        "      \"answer2\": \"Additionally, we’ve taken measures to...\"\n",
        "    }\n",
        "  ]\n",
        "}\"\"\"\n"
      ],
      "metadata": {
        "id": "ypgcF4wh92Te"
      },
      "execution_count": null,
      "outputs": []
    },
    {
      "cell_type": "code",
      "source": [
        "split_QA_context = \"\"\"You are an AI assistant. Given the following transcript of an earnings call Q&A session, extract and return the full names of the individuals who asked questions.\n",
        "\n",
        "Only include names of those asking questions — typically analysts or investors. Do not include names of those answering the questions and Do not repeat a name. Maintain the exact order in which the questions were asked.\n",
        "\n",
        "Example output:\n",
        "[\"Betsy Graseck\", \"Gerard Cassid\"]\n",
        "\n",
        "\"\"\""
      ],
      "metadata": {
        "id": "vPzBb90nzB4W"
      },
      "execution_count": null,
      "outputs": []
    },
    {
      "cell_type": "code",
      "source": [
        "def split_QA(qa_split, QA):\n",
        "\n",
        "  qa_split = ast.literal_eval(qa_split)\n",
        "  n = len(qa_split)\n",
        "  parts = []\n",
        "  json_result = []\n",
        "  combined_qa = []\n",
        "\n",
        "  for i in range(1, n+1, 2):\n",
        "\n",
        "\n",
        "    name_pttern1 = qa_split[i - 1].replace(\" \", r\"(?: [A-Z]\\.)? \")\n",
        "    pattern1 = rf'(?m)^ *{name_pttern1}:?'\n",
        "    start_index = re.search(pattern1, QA, flags=re.IGNORECASE)\n",
        "\n",
        "    if i -1 == 0:\n",
        "\n",
        "      name_pttern2 = qa_split[i + 1].replace(\" \", r\"(?: [A-Z]\\.)? \")\n",
        "      pattern2 = rf'(?m)^ *{name_pttern2}:?'\n",
        "      stop_index = re.search(pattern2, QA, flags=re.IGNORECASE)\n",
        "      parts.append(QA[0:stop_index.start() ])\n",
        "    elif i + 1 >= n:\n",
        "\n",
        "      parts.append(QA[start_index.start() : ])\n",
        "    else:\n",
        "\n",
        "      name_pttern2 = qa_split[i + 1].replace(\" \", r\"(?: [A-Z]\\.)? \")\n",
        "      pattern2 = rf'(?m)^ *{name_pttern2}:?'\n",
        "      stop_index = re.search(pattern2, QA, flags=re.IGNORECASE)\n",
        "      parts.append(QA[start_index.start() : stop_index.start()])\n",
        "\n",
        "  clear_output(wait=False)\n",
        "  for qa in parts:\n",
        "\n",
        "    response = client.models.generate_content(\n",
        "        model=\"gemini-2.0-flash\",\n",
        "        contents=f\"{user_prompt} {qa}\",\n",
        "        config= {\"response_mime_type\": \"application/json\",\n",
        "                 \"temperature\": 0.0},\n",
        "        )\n",
        "    json_result.append(json.loads(response.text.strip()))\n",
        "\n",
        "  for item in json_result:\n",
        "    combined_qa += item[\"qa\"]\n",
        "\n",
        "  return {\"qa\": combined_qa}"
      ],
      "metadata": {
        "id": "W4SuEM7E020M"
      },
      "execution_count": null,
      "outputs": []
    },
    {
      "cell_type": "code",
      "source": [
        "def transcript_name():\n",
        "\n",
        "  clean_data = {}\n",
        "\n",
        "\n",
        "  for banks in os.listdir(path):\n",
        "\n",
        "    bank_path = os.path.join(path, banks)\n",
        "    for pdf in os.listdir(bank_path):\n",
        "\n",
        "      transcript = \"\"\n",
        "      presentation = \"\"\n",
        "      qa = \"\"\n",
        "\n",
        "      pdf_path = os.path.join(bank_path, pdf)\n",
        "      doc = fitz.open(pdf_path)\n",
        "      for page in doc:\n",
        "\n",
        "        transcript += page.get_text()\n",
        "\n",
        "      match = combined_pattern.search(transcript)\n",
        "      if match:\n",
        "          index = match.start()\n",
        "          first_part = transcript[:index].strip()\n",
        "          second_part = transcript[index:].strip()\n",
        "\n",
        "          response_split = client.models.generate_content(\n",
        "              model=\"gemini-2.0-flash\",\n",
        "              contents=f\"{split_QA_context} {second_part}\",\n",
        "              config={\"temperature\": 0.0}\n",
        "              )\n",
        "\n",
        "          split_sentence = response_split.text.strip().strip('`').strip(\"python\")\n",
        "\n",
        "          qa = split_QA(split_sentence, second_part)\n",
        "          presentation =  first_part\n",
        "\n",
        "\n",
        "      else:\n",
        "          print(f\"No Q&A transition phrase found. {banks, pdf}\")\n",
        "\n",
        "      year_quarter = os.path.splitext(pdf)[0].split(\"_\")\n",
        "\n",
        "\n",
        "      other_details = {\n",
        "          \"Details\": [\n",
        "              {\n",
        "                  \"Presentation\": presentation,\n",
        "                  \"Year\": year_quarter[0],\n",
        "                  \"quarter\": year_quarter[1],\n",
        "              }]}\n",
        "      merged_json = {**other_details, **qa}\n",
        "\n",
        "      nested_directory = os.path.join(\"Clean_transcript\", banks)\n",
        "      clean_json = pdf.split(\".\")[0]\n",
        "\n",
        "      try:\n",
        "        os.makedirs(nested_directory)\n",
        "        clean_path = os.path.join(nested_directory, clean_json+\".json\")\n",
        "        with open(clean_path, 'w', encoding='utf-8') as file:\n",
        "          json.dump(merged_json, file, indent=4)\n",
        "\n",
        "      except FileExistsError:\n",
        "        clean_path = os.path.join(nested_directory, clean_json+\".json\")\n",
        "        with open(clean_path, 'w', encoding='utf-8') as file:\n",
        "          json.dump(merged_json, file, indent=4)\n"
      ],
      "metadata": {
        "id": "vxLtcJFYNfn8"
      },
      "execution_count": null,
      "outputs": []
    },
    {
      "cell_type": "code",
      "source": [
        "bank_trans = transcript_name()"
      ],
      "metadata": {
        "id": "ROBYWSFTT8oE"
      },
      "execution_count": null,
      "outputs": []
    },
    {
      "cell_type": "code",
      "source": [
        "def zip_folder(folder_path, output_path):\n",
        "    with zipfile.ZipFile(output_path, 'w', zipfile.ZIP_DEFLATED) as zipf:\n",
        "        for root, dirs, files in os.walk(folder_path):\n",
        "            for file in files:\n",
        "                abs_path = os.path.join(root, file)\n",
        "                rel_path = os.path.relpath(abs_path, start=folder_path)\n",
        "                zipf.write(abs_path, arcname=rel_path)"
      ],
      "metadata": {
        "id": "s64PEILSS8Im"
      },
      "execution_count": null,
      "outputs": []
    },
    {
      "cell_type": "code",
      "source": [
        "zip_folder('/content/Clean_transcript', 'Clean_transcript.zip')"
      ],
      "metadata": {
        "id": "rZPWD0mZTRGf"
      },
      "execution_count": null,
      "outputs": []
    },
    {
      "cell_type": "markdown",
      "source": [
        "# Question Avoidance"
      ],
      "metadata": {
        "id": "fCKESdtso1iL"
      }
    },
    {
      "cell_type": "code",
      "source": [
        "clean_path = \"/content/Clean_transcript\"\n",
        "\n",
        "with ZipFile(\"/content/Clean_transcript.zip\", 'r') as zObject:\n",
        "\n",
        "    zObject.extractall(path= clean_path)"
      ],
      "metadata": {
        "id": "HlhdIPRlFVOo"
      },
      "execution_count": null,
      "outputs": []
    },
    {
      "cell_type": "code",
      "source": [
        "def detect_avoidance(context, question, response):\n",
        "\n",
        "    prompt = f\"\"\"\n",
        "You are a helpful assistant that evaluates whether a response avoids answering a question.\n",
        "\n",
        "### Context:\n",
        "{context}\n",
        "\n",
        "### Question:\n",
        "{question}\n",
        "\n",
        "### Response:\n",
        "{response}\n",
        "\n",
        "Does the response avoid answering the question?\n",
        "\n",
        "Return only one word:\n",
        "- Answered\n",
        "- Avoided\n",
        "\"\"\"\n",
        "\n",
        "    result = client.models.generate_content(\n",
        "              model=\"gemini-2.0-flash\",\n",
        "              contents= prompt,\n",
        "              config={\"temperature\": 0.0}\n",
        "              )\n",
        "\n",
        "    clean_output = result.text.strip().split()[0]\n",
        "    return \"Answered\" if \"Answered\" in clean_output else \"Avoided\""
      ],
      "metadata": {
        "id": "5PcelKTzo2FM"
      },
      "execution_count": null,
      "outputs": []
    },
    {
      "cell_type": "code",
      "source": [
        "for banks in os.listdir(clean_path):\n",
        "\n",
        "\n",
        "  bank_path = os.path.join(clean_path, banks)\n",
        "  for transcript in os.listdir(bank_path):\n",
        "    transcript_path = os.path.join(bank_path, transcript)\n",
        "\n",
        "    with open(transcript_path, \"r\", encoding=\"utf-8\") as file:\n",
        "      data = json.load(file)\n",
        "\n",
        "    for i in data[\"qa\"]:\n",
        "\n",
        "\n",
        "      full_answer = (i.get(\"answer1\") or \"\") + (i.get(\"answer2\") or \"\")\n",
        "      answer = detect_avoidance(data[\"Details\"][0][\"Presentation\"], i[\"question\"], full_answer)\n",
        "      i[\"detect_avoidance\"] = answer\n",
        "\n",
        "    merged_json = {**{\"Details\": data[\"Details\"]}, **{ \"qa\": data['qa'] }}\n",
        "\n",
        "    with open(transcript_path, \"w\", encoding=\"utf-8\") as file:\n",
        "      json.dump(merged_json, file, indent=4, ensure_ascii=False)"
      ],
      "metadata": {
        "id": "SSNVx1WmF6qM"
      },
      "execution_count": null,
      "outputs": []
    },
    {
      "cell_type": "code",
      "source": [
        "zip_folder(clean_path, 'Clean_transcript.zip')"
      ],
      "metadata": {
        "id": "fr7j9Os6J0Fp"
      },
      "execution_count": null,
      "outputs": []
    },
    {
      "cell_type": "markdown",
      "source": [
        "# Commonly Avoided Question by Quarter"
      ],
      "metadata": {
        "id": "zeD_lVOr7wxs"
      }
    },
    {
      "cell_type": "code",
      "source": [
        "prompt_risk_template = \"\"\"\n",
        "You are a risk analyst evaluating questions asked to banks.\n",
        "\n",
        "Task:\n",
        "- Review the list of questions.\n",
        "- Identify only the questions that are clearly asking about **risk to the bank** — such as:\n",
        "  - Credit risk\n",
        "  - Regulatory or compliance risk\n",
        "  - Market or interest rate risk\n",
        "  - Macroeconomic uncertainty\n",
        "  - Capital adequacy\n",
        "  - Reputational risk\n",
        "  - Operational or integration risk\n",
        "- Only include a question if it contains a clear concern about potential negative outcomes or exposure.\n",
        "\n",
        "Instructions:\n",
        "- Be strict: Do not include general strategy, growth, or performance questions unless they explicitly or implicitly focus on risk.\n",
        "- If **no** questions are about risk, reply with: No\n",
        "- If there **are** risk-related questions, return them in a list format with the bank name as a header.\n",
        "\n",
        "Format:\n",
        "Bank Name:\n",
        "- question 1\n",
        "- question 2\n",
        "...\n",
        "\n",
        "Questions:\n",
        "{questions}\n",
        "\"\"\""
      ],
      "metadata": {
        "id": "qpETQX-mAGms"
      },
      "execution_count": null,
      "outputs": []
    },
    {
      "cell_type": "code",
      "source": [
        "prompt_summarization = \"\"\"\n",
        "You are a risk-focused summarization analyst.\n",
        "\n",
        "You have been given a list of risk-related questions that have already been identified across multiple banks. Your tasks are:\n",
        "\n",
        "1. **Summarize** each risk-related question in 1–2 concise sentences.\n",
        "2. **Group** the summaries by bank name.\n",
        "3. At the end, **return a count** of how many risk-related questions came from each bank.\n",
        "\n",
        "Only include the summaries and the final count section. Do not include any unrelated questions or commentary.\n",
        "\n",
        "Questions:\n",
        "{questions}\n",
        "\"\"\""
      ],
      "metadata": {
        "id": "VTH9HCUcpL9A"
      },
      "execution_count": null,
      "outputs": []
    },
    {
      "cell_type": "code",
      "source": [
        "def risk_assessment(prompt, questions):\n",
        "\n",
        "  final_prompt = prompt.format(questions= questions)\n",
        "  result = client.models.generate_content(\n",
        "      model=\"gemini-2.0-flash\",\n",
        "      contents= final_prompt,\n",
        "      config={\"temperature\": 0.0}\n",
        "      )\n",
        "  return result"
      ],
      "metadata": {
        "id": "89W34t2XBQ-P"
      },
      "execution_count": null,
      "outputs": []
    },
    {
      "cell_type": "code",
      "source": [
        "banks = os.listdir(clean_path)\n",
        "quarters_and_years = os.listdir(os.path.join(clean_path, banks[0]))"
      ],
      "metadata": {
        "id": "eZxODBEYZxYe"
      },
      "execution_count": null,
      "outputs": []
    },
    {
      "cell_type": "code",
      "source": [
        "Avoided_count = {}\n",
        "risk_questions = []\n",
        "for quarter in quarters_and_years:\n",
        "\n",
        "  questions = []\n",
        "  Avoided_by_quarter = []\n",
        "  for bank in banks:\n",
        "\n",
        "    file_path = os.path.join(clean_path, bank, quarter)\n",
        "    with open(file_path, \"r\", encoding=\"utf-8\") as file:\n",
        "      data = json.load(file)\n",
        "\n",
        "    counter = 1\n",
        "    question_counter = []\n",
        "    for i in data[\"qa\"]:\n",
        "      if i[\"detect_avoidance\"] == \"Avoided\":\n",
        "        questions.append({bank :f'{counter}. {i[\"question\"]} '})\n",
        "        question_counter.append({bank :f'{counter}. {i[\"question\"]} '})\n",
        "        counter += 1\n",
        "\n",
        "    Avoided_by_quarter.append({bank: len(question_counter)})\n",
        "  Avoided_count[os.path.splitext(quarter)[0]] = Avoided_by_quarter\n",
        "\n",
        "  assessing_risk  = risk_assessment(prompt_risk_template, questions)\n",
        "\n",
        "  clean_output = assessing_risk.text.strip()\n",
        "  if clean_output != \"No\":\n",
        "    year_quarter = os.path.splitext(quarter)[0].split(\"_\")\n",
        "    print(f\"Year: {year_quarter[0]}, Quarter: {year_quarter[1]}\")\n",
        "    risk_questions.append(clean_output)\n",
        "    print(clean_output)\n",
        "    print(\"\\n\")\n",
        "\n",
        "cleaned_data = {}\n",
        "for quarter, entries in Avoided_count.items():\n",
        "    cleaned_data[quarter] = {k: v for d in entries for k, v in d.items()}\n",
        "\n",
        "\n",
        "df = pd.DataFrame(cleaned_data).T\n",
        "df = df.sort_index()\n",
        "print(\"Number of Avoided Questions Count by Year and Q1 per bank\")\n",
        "print(df)\n",
        "print(\"_____________________________________________________________\")\n",
        "print( risk_assessment(prompt_summarization, risk_questions).text.strip())"
      ],
      "metadata": {
        "colab": {
          "base_uri": "https://localhost:8080/"
        },
        "id": "NRbsoRq8bAwB",
        "outputId": "4a7e5a59-d981-4110-d196-ddb64cc7314e"
      },
      "execution_count": null,
      "outputs": [
        {
          "output_type": "stream",
          "name": "stdout",
          "text": [
            "Year: 2024, Quarter: Q2\n",
            "Citi:\n",
            "- 2. Yeah, just to say real short follow-up to that. So you're doing all this great stuff, but you still fell short, just in like one sentence, despite doing all of this great stuff that you described, the regulator still said you didn't get it done. Why, after doing all that, didn't you get it done in the eyes of the regulators and why will it be fixed now? Just like a one sentence explanation for that if you have it. \n",
            "\n",
            "JPMorgan:\n",
            "- 1. So, wanted to start off with a question on capital just given some indications that the Fed is considering favorable revisions to both Basel III Endgame and the GSIB surcharge calculations, which I know you've been pushing for some time. As you evaluate just different capital scenarios, are these revisions material enough where they could support a higher normalized ROTCE at the Firm versus the 17% target? And if so, just how that might impact or inform your appetite for buybacks going forward? \n",
            "- 3. Your 17% through the cycle ROTCE expectation, what is the CET1 ratio that you assume for that?\n",
            "\n",
            "\n",
            "Year: 2023, Quarter: Q2\n",
            "Citi:\n",
            "- And since you mentioned you're evaluating buybacks quarter-by-quarter. I guess the question here is, how should I think about that relative to, we get Basel endgame coming out soon because clearly, when you’ re at 13.3% against the new reg cap SCB, you know it signals a bigger opportunity for buybacks over the coming quarters. So how should I think about that?\n",
            "\n",
            "UBS:\n",
            "- Okay. Thank you. If I may just very briefly on the risk weighted assets, if I – to take a very simplistic view and I just assume. I know the runoff, I can make some assumptions about Basel IV then op risk which is clearly very difficult to predict if I want to be conservative. One could assume that ultimately the risk weighted assets conservatively could not grow if at all to materially decline?\n",
            "\n",
            "JPMorgan:\n",
            "- Okay. But I guess just one follow-up on that. Just if we don't get rate cuts till middle of next year or later, does that sort of give some confidence to the outlook for next year or are you still worried about significant reprice?\n",
            "- Hi. I had another question on Vice Chair Barr's speech from this week. To the extent that capital ratios do go up 20% for you and perhaps others, to what degree would you think about changing your business model in terms of remixing where you do business, repricing or simply removing activities that you used to do? It's kind of ironic, or maybe it's not ironic, that Apollo hits an all-time stock price high at the same week of the speech. So how much business leaves JPMorgan or the industry if capital ratios do go up as much as potentially proposed?\n",
            "\n",
            "\n",
            "Year: 2024, Quarter: Q3\n",
            "Citi:\n",
            "- 3. And then I guess a follow-up on the US Personal Banking, RoTCE improvement and the normalization of the cost of credit seems to be a big component of that. But Mark can you just remind us where you are in terms of cost of credit versus what you would think a more normalized level is for Branded Cards and Retail Services. I guess how much of a tailwind does a more normalized credit environment entail in terms of credit cost?\n",
            "- 4. So with that said, is this a matter of spending more money or about doing these tasks more intelligently? In other words, you put more gas in the tank, the car's not going faster. So is it amount of resources or just being more intelligent in terms of resolving some of these regulatory issues?\n",
            "\n",
            "\n",
            "Year: 2025, Quarter: Q1\n",
            "Citi:\n",
            "- 2. Remind us, I mean, I think, and the genesis of both questions is I think there's a fragility to your RoTCE guidance for next year that I think makes investors nervous. And I'm just trying to get to the pieces around buybacks? And then in terms of credit, like how what's it baking in around the unemployment rate? What would cause you to ratchet up provisioning in the near term? What kind of an implied job market deterioration do we need to see for the credit outlook to deteriorate fast and materially? \n",
            "- 5. Jane, sharing about all turmoil and reading some new stories about mandates being shifted from U.S. broker-dealers to local players. Jane, are you concerned about that? Is that a shift that's starting outside the U.S. for big players like yourselves and others who are widespread globally, does this start to create stronger competitors or move some business away over time? \n",
            "\n",
            "UBS:\n",
            "- 1. I wanted to come back to US wealth management. If you could maybe run – you clearly have done some strategic changes around the US wealth management business, both on compensation, but also incentives, et cetera. And if I look on a year-end basis versus now, you have reductions in advisers. I just wanted to see where should we think adviser numbers to go to in US wealth. And how should we think around the net new flows but also impact in that respect because you made some statements in the last quarter that could be a deterioration, but also in terms of improvement in pre-tax margin. So, a bit more of a holistic approach around the changes that you have done and the impact. And then secondly, just coming back to the Federal Council report, can you just take a step back and just give your current views around your positioning against other banks, but also potential offsets that you can think about in order to offset some kind of additional capital requirement, even in big picture terms, if you could talk about that? \n",
            "\n",
            "JPMorgan:\n",
            "- 1. And to that point, the second question is on the reserve. Jeremy, you mentioned a weighted-average unemployment rate of 5.8%. I think that's above where economists are thinking we could peak even in a recession scenario. How should we think about any incremental builds from here? And what you are going – obviously, deterioration in the outlook, but what more do you need to see in terms of how you make decisions about further builds from here? \n",
            "- 2. Hi, good morning. Jeremy, on that same topic, no change to the full year credit Card net charge-off forecast. How do we square that with the rising recession risk? Is it because you already have a couple of months of delinquencies kind of baked in the cake and this is more an issue for next year, or just too early to call? \n",
            "- 3. Okay. That's helpful color. And then just separately, if we look at the delinquencies for the Home Lending, the increase both quarter-on-quarter and year-over-year, is that just some of the noise from the First Republic deal as you take the marks upfront and then those portfolios essentially re-season from an accounting point of view? Or is there something else going on there? \n",
            "- 4. Thank you both for that perspective. And just for my follow-up, did want to ask on the Markets outlook. So, admittedly, less surprising to hear some of the cautious IB commentary in light of the uncertainty. But was hoping you could just speak to the Markets businesses which have been performing extraordinarily well of late and just given the combination of elevated volatility, but also some indications that clients are taking down risk, how you expect that business to perform over the coming quarters. \n",
            "- 5. Thank you. Hi, Jeremy and Jamie. Can you guys share with us – if you take a look at the non-traditional lenders, private credit lenders, they've been very active in grabbing market share from the traditional commercial banks over the last two or three years, particularly since the initial Basel III Endgame proposal came out in July of 2023, which is no longer applicable. But are you guys seeing any opportunities where customers may re-intermediate back into the banks like your bank because of this volatility? \n",
            "- 6. Very good. Thank you. And then as a follow-up, you both just talked about the potential changes to the different regulatory outcomes for you and your peers, whether it's SLR or the G-SIB buffer, et cetera. Can you opine for us your views? Are you more confident with the new administration, the new personnel, whether it's Treasury Secretary Bessent or others, the nominees for different regulatory heads that there will be a better chance of real regulatory reform, they see it the way you guys do versus the prior administration? \n",
            "- 7. I'm just wondering what is it you think we need to see before this uncertainty abates, or the 90-day pause that we saw with some of the other countries on tariffs. Is that enough? Or I'm just wondering when you talk to clients, corporate CEOs, what are they looking for from the administration that would inject confidence to get back anywhere close to where we were maybe 60 or 90 days ago? \n",
            "- 8. Jeremy, just on – with four – three to four cuts sort of mostly in the back half, June to December, how do you think about the trajectory of NII this year? Is there a little more pressure towards the end of the year into 2026? Just trying to think of that around that trajectory and jumping off point into next year. \n",
            "- 10. Jamie, you've been through many cycles. And I think we're all interested in understanding how you think this next cycle is likely to progress. And I'm wondering, is there anything that you've seen in the past that looks like this, or that you would suggest if any slowdown coming forward, is it more likely to be similar to what kind of prior cycle you've seen?\n",
            "\n",
            "\n",
            "Year: 2024, Quarter: Q4\n",
            "UBS:\n",
            "- Thank you much for taking my question. Two questions, please. On the first one coming back to the too big to fail was, I mean, you stressed a few times the potential impact on your return currently, on your current assumptions based on 14%. I know there's a lot of uncertainty, but do you think considering depending on the outcome, you will have room to offset your ROE dilution for more capital requirements? And then thank you on the US wealth management operation, a few details here. I'm just wondering obviously you talked about improving the performance of the US operations a few times before. So what will be different this time that this will work out?\n",
            "\n",
            "JPMorgan:\n",
            "- So, maybe just talk about, again, what areas of the regulatory structure, if it were to change, would be most impactful for you. And is there any areas where you think capital requirements could actually go down? Or is this more of a story of requirements just simply stop going up?\n",
            "\n",
            "\n",
            "Year: 2023, Quarter: Q1\n",
            "JPMorgan:\n",
            "- So, as you think about all of what you've just told us – so $81 billion of NII this year, and who knows when medium-term is going to happen of mid-70s, the clear strength of the franchise producing 23% ROTCE in a quarter where your CET1 is 13.8% and a reserve that already reflects 5.8% unemployment. As we think about recession and what JPMorgan can earn in a recession, do you think you can hit 17% ROTCE even in 2024 – assuming we do have a recession in 2024 as everybody is expecting – given all these revenue dynamics and how prepared you are on the reserve?\n",
            "- Just give us a sense of when you look at the two pressure points on CRE, one, how much is oversupply – and that probably goes beyond office into apartments – how much of a issue is oversupply in the market as we think about the next few years going into a weakening economy? And how much of a risk is higher for longer rates in that if the central banks can't cut rates in the next year or two, we will see a ton of more pain because of the re-fi wall that's coming up?\n",
            "- So I just wanted to unpack the higher for longer rate possibility as to how it impacts your NII because your NII guide is assuming the forward curve, if I understand correctly. So, in the event that you get that higher for longer, just how much does that impact NII ex. Markets because I'm trying to triangulate here about – maybe you lose some deposits, but if we have higher for longer, shouldn't we expect the trajectory goes up from this quarter as opposed to down? Is that – that's the question.\n",
            "- Yeah. And then can you give us any sense of what Basel IV endgame means to you in your RWAs? How much should we be baking in for those?\n",
            "\n",
            "\n",
            "Year: 2023, Quarter: Q4\n",
            "Citi:\n",
            "- Hey, good afternoon. Mark, maybe just to follow up on the expense, slide 22, where you talk \\nabout $2 billion to $2.5 billion of expense saves. I guess I'm struggling with the numbers there. I think if you \\nlook at exit and wind- down markets, you're probably close to $2 billion in numbers there. And maybe the \\nstranded costs, you can't get all of that out. You're doing about –  severance is $700 million to $1 billion in \\n2024. So doesn't seem like there's a ton of actual cost saves in that number. And just maybe I'm wrong, if you \\ncould just kind of walk me through the numbers embedded in there and if there's, you've kind of eluded to \\nmore to come beyond the intermediate term.\n",
            "\n",
            "UBS:\n",
            "- You talked about 2024 and you talked about 2026 on the buybacks and I just wondered in terms of how we think about what you might be able to do in 2025. Is 14% CET1 the relative – the relevant thresholds? Are there other constraints that will constrain you in terms of what buybacks you can do in 2025? So, does it have to wait for the Swiss integrations to be done? Does it have to wait for non-core milestones? If you just could talk about the constraints that would affect that, that would be great.\n",
            "- Most of my questions have been answered, but maybe just a final one on litigation. Just whether there's anything in the plan for a sort of a business as usual normalized charge for litigation. I know you've taken a lot of adjustments on CS acquisition and you've gotten the $4 billion of balance sheet reserves at this stage, but having had a good chance to look at the case book at this point. Is there anything in there which you think might still burden the P&L over the course of the targets that you’ve laid out this morning?\n",
            "\n",
            "JPMorgan:\n",
            "- My first question is a follow-up on Matt's with regarding the buyback. You printed 15% CET1 in the quarter. On a net basis, net of RWA growth, your net income produces 51 basis points every quarter. Again, that's net of RWA growth. I'm wondering what guideposts you're looking for, Jeremy, in terms of that buyback increasing from that $2 billion a quarter. Do we need to wait for Basel III finalization, which seems like it could be quite delayed? Or will having clarity in the June D-FAST results – you mentioned the SCB – sort of be enough that you could reconsider this pace over the medium term?\n",
            "\n",
            "\n",
            "Year: 2024, Quarter: Q1\n",
            "UBS:\n",
            "- The first one is Sergio, your first comment on the call today were, we were asked to do a critical role in Switzerland. And -- the key here is you were asked to buy a distressed asset, a G-SIB asset and when you buy something, which you are asked to buy, you clearly are in control of the process. And I would assume just like you do in an M&A transaction, you know that better than me, you have a MAC clause and in this instance, I would assume after all the financial crisis issues that we had in 2012-2013 with mergers by regulators, there would have been an agreement that there's not over-regulation for UBS post the NewCo transaction. And I wanted to see if there's anything like this. The second question I have is Sergio you also comment that the assessment of capital will be based on what the final outcome is once we better know the outcome of these regulations. And one option is also to look at your legal entities and maybe close some of the legal entities or exit, and clearly a lot of capital is tied up in the US. They make lower returns if I look at US wealth ex-LatAm as well as the US IB, I assume its lower returns. So one option would be a restructuring or exiting of markets to rather than reducing capital return. I wanted to see if that is also an alternative.\n",
            "- I mean, is it fair to say that a result of the uncertainty and not really changing any step in your strategy and execution of the merger and specifically, with Q4 results, you mentioned, the potential amortization of additional DTA, just confirming this – at the current stage, this is going ahead?\n",
            "\n",
            "JPMorgan:\n",
            "- That's helpful. And just tied to that, as we look at commercial real estate both for J.P. and for the economy overall, is higher rates alone enough to create more vulnerability than issues beyond office CRE? Like, how would you characterize the health of the CRE market? Thank you.\n",
            "- Where are the next homeruns going to come from? And this is more strategic beyond just JPMorgan, but there are probably going to be more regional bank failures, whether it's this year or next year, and opportunities to pick those up. But what you're seeing is that, private equity and family offices are setting up to participate in this next round of bank failures. Mnuchin's buying of NYCB is clearly to create a platform for rollups of failed banks, and then there are other family offices that have filed shelf registrations for bank holding companies whose specific purpose is to buy failed banks. So, do you think that these opportunities are going to be competed away by private credit? And as part of that, do you think the regulators are going to view private credit as a different party and less attractive party versus bank takeovers of failed banks? So, that's my question.\n",
            "\n",
            "\n",
            "Year: 2023, Quarter: Q3\n",
            "Citi:\n",
            "- Hi good morning. So, Mark and Jane, I do recognize you'll provide a more fulsome update \\non expense actions next quarter, but one of the things I was hoping was that you could frame the expense \\nopportunity in the context of your headcount trends. And prior to COVID, as well as the consent order, mind \\nyou, Citi was running with 200,000 direct staff. That number is closer to 240,000 today. It's an increase of \\n20%, even with multiple divestitures that you've consummated. So how should we think about an \\nappropriate target or an optimal level of headcount for Citi versus that pre-COVID baseline of 200,000, and \\nwhether the consent order would impact the timing or magnitude of such headcount actions?\n",
            "\n",
            "JPMorgan:\n",
            "- Thanks for the color. Just for my follow up, on some of the regulatory commentary you provided. Certainly, a lot of helpful color in the slides, so thank you for that. If the proposal were to go through as written, what proportion of the inflation do you believe can be mitigated over time? And was also hoping you could provide some context as to the quantum of how you think CECL inclusion could potentially impact the SCB and CCAR.\n",
            "- And just going back to the details you laid out on Basel Endgame, maybe on the philosophical side I think Jamie was speaking last month, said that we don't expect any changes but at the same time, you make everything that makes sense in terms of the pushback. Is it all falling on deaf ears from a shareholder perspective? Are we resigned to the fact that we are going to see more towards the worst-case outcome play out or is there some level of sort of meeting in the middle of the road as this thing gets finalized?\n",
            "- Hey. Good morning. Jeremy, do you think there's any receptivity among regulators regarding the double counting not only of operational risk but I think you alluded to this earlier in the Markets business, but there's clearly double counting in market risk in the trading book. Is there any receptivity?\n",
            "\n",
            "\n",
            "Number of Avoided Questions Count by Year and Q1 per bank\n",
            "         Citi  UBS  JPMorgan\n",
            "2023_Q1     0    1         7\n",
            "2023_Q2     8    5         8\n",
            "2023_Q3     3    0         5\n",
            "2023_Q4     4    3         7\n",
            "2024_Q1     2    4         4\n",
            "2024_Q2     2    4         4\n",
            "2024_Q3     4    0         6\n",
            "2024_Q4     4    5         6\n",
            "2025_Q1     6    3        10\n",
            "_____________________________________________________________\n",
            "**Citi:**\n",
            "\n",
            "*   Analysts are questioning why Citi fell short of regulatory expectations despite their efforts and when the issues will be resolved.\n",
            "*   Analysts are asking how to think about buybacks relative to the upcoming Basel endgame regulations.\n",
            "*   Analysts are inquiring about the expected normalization of the cost of credit in US Personal Banking and its impact on RoTCE.\n",
            "*   Analysts are questioning whether resolving regulatory issues is a matter of increased spending or improved efficiency.\n",
            "*   Analysts are concerned about the fragility of Citi's RoTCE guidance and are seeking clarity on buybacks and credit provisioning, particularly in relation to unemployment rates.\n",
            "*   Analysts are asking if Citi is concerned about mandates being shifted from U.S. broker-dealers to local players and the potential impact on competition.\n",
            "*   Analysts are seeking clarification on the expense savings outlined in slide 22, particularly regarding exit and wind-down markets, severance costs, and potential future cost reductions.\n",
            "*   Analysts are seeking an update on Citi's expense actions, particularly in the context of headcount trends and the impact of the consent order on headcount targets.\n",
            "\n",
            "**JPMorgan:**\n",
            "\n",
            "*   Analysts are questioning if potential revisions to Basel III Endgame and GSIB surcharge calculations could support a higher normalized ROTCE and impact buyback appetite.\n",
            "*   Analysts are asking what CET1 ratio is assumed for JPMorgan's 17% through-the-cycle ROTCE expectation.\n",
            "*   Analysts are asking if delayed rate cuts would give more confidence to the outlook for next year or if there are still concerns about significant repricing.\n",
            "*   Analysts are questioning how JPMorgan would change its business model if capital ratios increase significantly due to Vice Chair Barr's speech.\n",
            "*   Analysts are asking how to think about incremental reserve builds given a weighted-average unemployment rate of 5.8%.\n",
            "*   Analysts are questioning how the unchanged full-year credit card net charge-off forecast aligns with rising recession risks.\n",
            "*   Analysts are asking if the increase in Home Lending delinquencies is related to the First Republic deal or if there are other underlying issues.\n",
            "*   Analysts are seeking insights into the expected performance of the Markets businesses given elevated volatility and clients taking down risk.\n",
            "*   Analysts are asking if JPMorgan is seeing opportunities for customers to re-intermediate back into banks due to volatility and the Basel III Endgame proposal.\n",
            "*   Analysts are seeking JPMorgan's views on the potential for regulatory reform under the new administration and personnel.\n",
            "*   Analysts are asking what needs to happen for uncertainty to abate and for corporate CEOs to regain confidence.\n",
            "*   Analysts are asking how the trajectory of NII will be affected by three to four rate cuts in the back half of the year.\n",
            "*   Analysts are interested in understanding how Jamie Dimon thinks the next cycle is likely to progress and if there are any past cycles that resemble it.\n",
            "*   Analysts are asking about the potential impact of regulatory changes on JPMorgan and if there are any areas where capital requirements could decrease.\n",
            "*   Analysts are questioning if JPMorgan can hit 17% ROTCE in 2024, even with a recession, given revenue dynamics and reserve levels.\n",
            "*   Analysts are asking about the extent of oversupply and higher-for-longer rates as pressure points on CRE.\n",
            "*   Analysts are asking how higher-for-longer rates would impact NII, considering potential deposit losses and the forward curve assumption.\n",
            "*   Analysts are asking what Basel IV endgame means to JPMorgan in terms of RWAs.\n",
            "*   Analysts are seeking clarity on the guideposts JPMorgan is looking for to increase buybacks from $2 billion a quarter.\n",
            "*   Analysts are asking how higher rates alone impact commercial real estate and how JPMorgan would characterize the health of the CRE market.\n",
            "*   Analysts are asking where the next opportunities for growth will come from, particularly in the context of potential regional bank failures and competition from private equity.\n",
            "*   Analysts are asking what proportion of the inflation from the regulatory proposal can be mitigated over time and how CECL inclusion could impact the SCB and CCAR.\n",
            "*   Analysts are asking if there is any receptivity among regulators regarding the double counting of operational risk and market risk.\n",
            "\n",
            "**UBS:**\n",
            "\n",
            "*   Analysts are asking about the potential impact of risk weighted assets, Basel IV, and op risk on the company's growth.\n",
            "*   Analysts are seeking insights into strategic changes in US wealth management, including adviser numbers, net new flows, and pre-tax margin impact, as well as views on the Federal Council report and potential capital requirement offsets.\n",
            "*   Analysts are questioning if UBS will have room to offset ROE dilution for more capital requirements and what will be different this time to improve the performance of the US operations.\n",
            "*   Analysts are asking about the constraints that will affect buybacks in 2025, such as the 14% CET1 threshold, Swiss integrations, and non-core milestones.\n",
            "*   Analysts are inquiring about the plan for a normalized charge for litigation, considering adjustments on the CS acquisition and balance sheet reserves.\n",
            "*   Analysts are asking if there was a MAC clause in the UBS acquisition of Credit Suisse to prevent over-regulation and if restructuring or exiting markets is an alternative to reducing capital return.\n",
            "*   Analysts are asking if the uncertainty is not changing any step in the strategy and execution of the merger and specifically, with Q4 results, confirming the potential amortization of additional DTA.\n",
            "\n",
            "**Counts:**\n",
            "\n",
            "*   Citi: 8\n",
            "*   JPMorgan: 22\n",
            "*   UBS: 7\n"
          ]
        }
      ]
    },
    {
      "cell_type": "code",
      "source": [
        "print(risk_questions)"
      ],
      "metadata": {
        "colab": {
          "base_uri": "https://localhost:8080/"
        },
        "id": "06oAuTKSvOXZ",
        "outputId": "fa532389-cde8-4a16-f5f9-78c74fe587ca"
      },
      "execution_count": null,
      "outputs": [
        {
          "output_type": "stream",
          "name": "stdout",
          "text": [
            "[]\n"
          ]
        }
      ]
    }
  ]
}