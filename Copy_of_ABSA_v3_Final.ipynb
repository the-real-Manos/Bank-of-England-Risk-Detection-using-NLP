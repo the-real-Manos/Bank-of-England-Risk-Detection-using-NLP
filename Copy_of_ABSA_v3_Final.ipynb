{
  "nbformat": 4,
  "nbformat_minor": 0,
  "metadata": {
    "colab": {
      "provenance": [],
      "machine_shape": "hm",
      "gpuType": "A100"
    },
    "kernelspec": {
      "name": "python3",
      "display_name": "Python 3"
    },
    "language_info": {
      "name": "python"
    },
    "accelerator": "GPU"
  },
  "cells": [
    {
      "cell_type": "markdown",
      "source": [
        "#Install"
      ],
      "metadata": {
        "id": "YTrN381h31bn"
      }
    },
    {
      "cell_type": "code",
      "execution_count": null,
      "metadata": {
        "colab": {
          "base_uri": "https://localhost:8080/"
        },
        "id": "XLBVOj6x2Cij",
        "outputId": "f14cf76f-61cd-4d7b-e741-928e03a7c0f0"
      },
      "outputs": [
        {
          "output_type": "stream",
          "name": "stdout",
          "text": [
            "Collecting PyPDF2\n",
            "  Downloading pypdf2-3.0.1-py3-none-any.whl.metadata (6.8 kB)\n",
            "Downloading pypdf2-3.0.1-py3-none-any.whl (232 kB)\n",
            "\u001b[?25l   \u001b[90m━━━━━━━━━━━━━━━━━━━━━━━━━━━━━━━━━━━━━━━━\u001b[0m \u001b[32m0.0/232.6 kB\u001b[0m \u001b[31m?\u001b[0m eta \u001b[36m-:--:--\u001b[0m\r\u001b[2K   \u001b[90m━━━━━━━━━━━━━━━━━━━━━━━━━━━━━━━━━━━━━━━━\u001b[0m \u001b[32m232.6/232.6 kB\u001b[0m \u001b[31m17.1 MB/s\u001b[0m eta \u001b[36m0:00:00\u001b[0m\n",
            "\u001b[?25hInstalling collected packages: PyPDF2\n",
            "Successfully installed PyPDF2-3.0.1\n"
          ]
        }
      ],
      "source": [
        "!pip install PyPDF2"
      ]
    },
    {
      "cell_type": "markdown",
      "source": [
        "#Import"
      ],
      "metadata": {
        "id": "ctsVHcco35eO"
      }
    },
    {
      "cell_type": "code",
      "source": [
        "# NLP Tools\n",
        "\n",
        "import PyPDF2\n",
        "import json\n",
        "import nltk\n",
        "nltk.download('punkt_tab')\n",
        "from nltk.tokenize import sent_tokenize"
      ],
      "metadata": {
        "colab": {
          "base_uri": "https://localhost:8080/"
        },
        "id": "hOfN6wDZ3wOh",
        "outputId": "82f5dba9-fb23-438a-8f89-dd39cab2054a"
      },
      "execution_count": null,
      "outputs": [
        {
          "output_type": "stream",
          "name": "stderr",
          "text": [
            "[nltk_data] Downloading package punkt_tab to /root/nltk_data...\n",
            "[nltk_data]   Unzipping tokenizers/punkt_tab.zip.\n"
          ]
        }
      ]
    },
    {
      "cell_type": "code",
      "source": [
        "# For ABSA\n",
        "from transformers import AutoTokenizer, AutoModelForSequenceClassification\n",
        "import torch\n",
        "\n",
        "# Progress bar\n",
        "from tqdm import tqdm\n",
        "\n",
        "# Display\n",
        "import matplotlib.pyplot as plt\n",
        "import pandas as pd"
      ],
      "metadata": {
        "id": "wMPD49tm72Vg"
      },
      "execution_count": null,
      "outputs": []
    },
    {
      "cell_type": "markdown",
      "source": [
        "# Connect to drive\n"
      ],
      "metadata": {
        "id": "eVIdKxLF4Drm"
      }
    },
    {
      "cell_type": "code",
      "source": [
        "# connect to google\n",
        "from google.colab import drive\n",
        "drive.mount('/content/drive')\n",
        "\n",
        "# Change path accordingly\n",
        "path = \"/content/drive/MyDrive/Colab Notebooks/EP/t_processed/\""
      ],
      "metadata": {
        "colab": {
          "base_uri": "https://localhost:8080/"
        },
        "id": "roNOFym54GCW",
        "outputId": "4f1df447-1ea0-44d0-afb6-e2b16744b1ad"
      },
      "execution_count": null,
      "outputs": [
        {
          "output_type": "stream",
          "name": "stdout",
          "text": [
            "Mounted at /content/drive\n"
          ]
        }
      ]
    },
    {
      "cell_type": "markdown",
      "source": [
        "# Proper data process"
      ],
      "metadata": {
        "id": "CGVHV_2l0osY"
      }
    },
    {
      "cell_type": "code",
      "source": [
        "def load_json(path_in):\n",
        "  with open(path_in, 'r') as file:\n",
        "    data = json.load(file)\n",
        "  return data\n",
        "\n",
        "def make_list(cont_str): # Sentence Tokenize and clen text\n",
        "  sentences = sent_tokenize(cont_str)\n",
        "  clean_sentences = [sent.replace(\"\\n\",\"\") for sent in sentences]\n",
        "\n",
        "  return clean_sentences\n",
        "\n",
        "def make_continuous(data): # Extract all the relevant data format it for ABSA\n",
        "\n",
        "  # In details\n",
        "  continuous_string = data['Details'][0]['Presentation']\n",
        "\n",
        "  # In qa\n",
        "  # for every qa pair, add the entries q, a1, ..., an for n answers\n",
        "  qna_ext_details = ['question', 'answer1', 'answer2', 'answer3', 'answer4', 'answer5', 'answer6', 'answer7', 'answer8']\n",
        "\n",
        "  for qa_pair in data['qa']: # init questions loop\n",
        "\n",
        "\n",
        "    to_extract = [] # Reset extraction keychain\n",
        "    ######\n",
        "    for key in qa_pair.keys(): # iterate through keys\n",
        "      if key in qna_ext_details: # check key relativity\n",
        "        to_extract.append(key) # add relevant key to extraction keychain\n",
        "\n",
        "    for key in to_extract: # Modify continuous string\n",
        "      # print(key)\n",
        "      continuous_string += \" \\n\"\n",
        "      continuous_string += qa_pair[key]\n",
        "    ######\n",
        "\n",
        "  return make_list(continuous_string)"
      ],
      "metadata": {
        "id": "Ww0AYYH-zdn_"
      },
      "execution_count": null,
      "outputs": []
    },
    {
      "cell_type": "markdown",
      "source": [
        "# Opinion mining / Aspect Based Sentiment Analysis / Target SA"
      ],
      "metadata": {
        "id": "Z7sNjy8nrpd1"
      }
    },
    {
      "cell_type": "code",
      "source": [
        "# TRANSCRIPTS PER BANK\n",
        "\n",
        "# UBS\n",
        "UBS_transcripts = [\n",
        "    \"UBS/2023_Q1.json\", \"UBS/2023_Q2.json\", \"UBS/2023_Q3.json\", \"UBS/2023_Q4.json\",\n",
        "    \"UBS/2024_Q1.json\", \"UBS/2024_Q2.json\", \"UBS/2024_Q3.json\", \"UBS/2024_Q4.json\",\n",
        "    \"UBS/2025_Q1.json\",\n",
        "    ]\n",
        "\n",
        "# JPMorgan\n",
        "JPM_transcripts = [\n",
        "    \"JPMorgan/2023_Q1.json\", \"JPMorgan/2023_Q2.json\", \"JPMorgan/2023_Q3.json\", \"JPMorgan/2023_Q4.json\",\n",
        "    \"JPMorgan/2024_Q1.json\", \"JPMorgan/2024_Q2.json\", \"JPMorgan/2024_Q3.json\", \"JPMorgan/2024_Q4.json\",\n",
        "    \"JPMorgan/2025_Q1.json\",\n",
        "    ]\n",
        "\n",
        "# Citi\n",
        "Citi_transcripts = [\n",
        "    \"Citi/2023_Q1.json\", \"Citi/2023_Q2.json\", \"Citi/2023_Q3.json\", \"Citi/2023_Q4.json\",\n",
        "    \"Citi/2024_Q1.json\", \"Citi/2024_Q2.json\", \"Citi/2024_Q4.json\",\n",
        "    \"Citi/2025_Q1.json\",\n",
        "    ]"
      ],
      "metadata": {
        "id": "q-gz8DVYtcPP"
      },
      "execution_count": null,
      "outputs": []
    },
    {
      "cell_type": "code",
      "source": [
        "# ASPECTS PER BANK\n",
        "# These topics are manually extracted from the topic modelling results. They are grouped by bank\n",
        "\n",
        "UBS_aspects = [\n",
        "  # 1 Pressure on Net Interest Margin (NIM)\n",
        "  'NIM',\n",
        "  'net interest margin',\n",
        "  ' interest ',\n",
        "  # ' rate ',\n",
        "  # ' interest rate',\n",
        "  # 2 Concerns about IT Systems and Cyber Security\n",
        "  ' IT ',\n",
        "  # ' cyber',\n",
        "  # ' cybersecurity',\n",
        "  # 3 Exposure to the Commercial Real Estate (CRE) Sector\n",
        "  ' real estate',\n",
        "  # 4 Capital Adequacy and regulatory Changes\n",
        "  ' regulation',\n",
        "  ' regulatory',\n",
        "  # ' capital adequacy',\n",
        "  # 5 Strategic Exit/Exposure to Emerging Markets\n",
        "  ' innovation',\n",
        "  ' emerging markets'\n",
        "]\n",
        "\n",
        "JPM_aspects = [\n",
        "    # 1 Loan book quality increase in defaults\n",
        "    ' loan',\n",
        "    ' default',\n",
        "    # 2 IT Infrastructure and Cybersecurity\n",
        "    # ' IT',\n",
        "    ' cybersecurity',\n",
        "    ' cyber',\n",
        "    # 3 Market concerns about liquidity risk / Bank's liquidity position and reliance on wholesale funding\n",
        "    ' wholesale',\n",
        "    ' liquid',\n",
        "    # ' liquidity risk',\n",
        "    # 4 Increased exposure to emerging markets\n",
        "    # ' emerging markets',\n",
        "    ' emerg', # Emerging markets\n",
        "    ' innovation',\n",
        "    # Reputation and negative media coverage/ Concerns about the bank's culture and conduct\n",
        "    # ' reputation',\n",
        "    ' culture',\n",
        "    # ' conduct',\n",
        "    ' media',\n",
        "    ' coverage',\n",
        "\n",
        "]\n",
        "\n",
        "Citi_aspects = [\n",
        "    # 1 Digital Transformation Efforts\n",
        "    ' digital',\n",
        "    # ' transofrm',\n",
        "    # 2 Cybersecurity Measures and Talent Retention\n",
        "    ' cyber',\n",
        "    # ' cybersecurity',\n",
        "    ' talent',\n",
        "    ' retain',\n",
        "    # 3 Exposure to the Commercial Realestate market\n",
        "    # ' real estate',\n",
        "    # ' commercial real estate',\n",
        "    # 4 Capital adequacy\n",
        "    ' capital',\n",
        "    # 5 Impact of low interest rate environment on NIM / Pressure on NIM\n",
        "    ' interest',\n",
        "    # ' rate ',\n",
        "    ' interest rate',\n",
        "    # 'NIM',\n",
        "    ' net interest margin',\n",
        "]"
      ],
      "metadata": {
        "id": "J5FSX9fI80DK"
      },
      "execution_count": null,
      "outputs": []
    },
    {
      "cell_type": "code",
      "source": [
        "# Check GPU availability\n",
        "\n",
        "USE_CUDA = True\n",
        "\n",
        "if USE_CUDA and torch.cuda.is_available():\n",
        "  device = torch.device(\"cuda\")\n",
        "  print(\"cuda available\")\n",
        "else:\n",
        "  device = torch.device(\"cpu\")\n",
        "  print(\"cuda not available\")\n",
        "\n",
        "# device = torch.device(\"cuda\" if torch.cuda.is_available() else \"cpu\")\n",
        "print(f\"Using device: {device}\")"
      ],
      "metadata": {
        "colab": {
          "base_uri": "https://localhost:8080/"
        },
        "id": "6OSMLgOGsxCy",
        "outputId": "33722751-6118-492d-8c5f-eb59c490f8fe"
      },
      "execution_count": null,
      "outputs": [
        {
          "output_type": "stream",
          "name": "stdout",
          "text": [
            "cuda available\n",
            "Using device: cuda\n"
          ]
        }
      ]
    },
    {
      "cell_type": "code",
      "source": [
        "# Load model and tokenizer\n",
        "\n",
        "model_name = \"yangheng/deberta-v3-base-absa-v1.1\" # Chosen Classification model\n",
        "\n",
        "tokenizer = AutoTokenizer.from_pretrained(model_name)\n",
        "model = AutoModelForSequenceClassification.from_pretrained(model_name)\n",
        "model.to(device) # Apply to cuda if available"
      ],
      "metadata": {
        "colab": {
          "base_uri": "https://localhost:8080/"
        },
        "id": "7MGYNQ3L6XrJ",
        "outputId": "280ddbbd-4992-4b8b-aad1-caedf0684dab"
      },
      "execution_count": null,
      "outputs": [
        {
          "output_type": "execute_result",
          "data": {
            "text/plain": [
              "DebertaV2ForSequenceClassification(\n",
              "  (deberta): DebertaV2Model(\n",
              "    (embeddings): DebertaV2Embeddings(\n",
              "      (word_embeddings): Embedding(128100, 768, padding_idx=0)\n",
              "      (LayerNorm): LayerNorm((768,), eps=1e-07, elementwise_affine=True)\n",
              "      (dropout): Dropout(p=0.1, inplace=False)\n",
              "    )\n",
              "    (encoder): DebertaV2Encoder(\n",
              "      (layer): ModuleList(\n",
              "        (0-11): 12 x DebertaV2Layer(\n",
              "          (attention): DebertaV2Attention(\n",
              "            (self): DisentangledSelfAttention(\n",
              "              (query_proj): Linear(in_features=768, out_features=768, bias=True)\n",
              "              (key_proj): Linear(in_features=768, out_features=768, bias=True)\n",
              "              (value_proj): Linear(in_features=768, out_features=768, bias=True)\n",
              "              (pos_dropout): Dropout(p=0.1, inplace=False)\n",
              "              (dropout): Dropout(p=0.1, inplace=False)\n",
              "            )\n",
              "            (output): DebertaV2SelfOutput(\n",
              "              (dense): Linear(in_features=768, out_features=768, bias=True)\n",
              "              (LayerNorm): LayerNorm((768,), eps=1e-07, elementwise_affine=True)\n",
              "              (dropout): Dropout(p=0.1, inplace=False)\n",
              "            )\n",
              "          )\n",
              "          (intermediate): DebertaV2Intermediate(\n",
              "            (dense): Linear(in_features=768, out_features=3072, bias=True)\n",
              "            (intermediate_act_fn): GELUActivation()\n",
              "          )\n",
              "          (output): DebertaV2Output(\n",
              "            (dense): Linear(in_features=3072, out_features=768, bias=True)\n",
              "            (LayerNorm): LayerNorm((768,), eps=1e-07, elementwise_affine=True)\n",
              "            (dropout): Dropout(p=0.1, inplace=False)\n",
              "          )\n",
              "        )\n",
              "      )\n",
              "      (rel_embeddings): Embedding(512, 768)\n",
              "      (LayerNorm): LayerNorm((768,), eps=1e-07, elementwise_affine=True)\n",
              "    )\n",
              "  )\n",
              "  (pooler): ContextPooler(\n",
              "    (dense): Linear(in_features=768, out_features=768, bias=True)\n",
              "    (dropout): Dropout(p=0, inplace=False)\n",
              "  )\n",
              "  (classifier): Linear(in_features=768, out_features=3, bias=True)\n",
              "  (dropout): Dropout(p=0.1, inplace=False)\n",
              ")"
            ]
          },
          "metadata": {},
          "execution_count": 38
        }
      ]
    },
    {
      "cell_type": "code",
      "source": [
        "# Format imput and predict sentiment for a specific aspect\n",
        "\n",
        "def get_aspect_sentiment(sentence, aspect):\n",
        "\n",
        "    # highlight asptect\n",
        "    asp_formatted = sentence.replace(aspect, f\"[ASP]{aspect}[ASP]\")\n",
        "    inputs = tokenizer(asp_formatted, return_tensors=\"pt\").to(device)\n",
        "    with torch.no_grad():\n",
        "        logits = model(**inputs).logits\n",
        "\n",
        "    # Sentiment Analysis\n",
        "    pred = torch.argmax(logits, dim=1).item()\n",
        "    sentiment = [\"negative\", \"neutral\", \"positive\"][pred]\n",
        "\n",
        "    return sentiment\n"
      ],
      "metadata": {
        "id": "AWdz4Jh89l3f"
      },
      "execution_count": null,
      "outputs": []
    },
    {
      "cell_type": "code",
      "source": [
        "def run_ABSA(text_in, aspects_in, transcript_info):\n",
        "\n",
        "  # Extract sentiments for given aspects\n",
        "  results = [] # init return list\n",
        "\n",
        "  for sent in text_in:\n",
        "      for asp in aspects_in:\n",
        "          if asp in sent:\n",
        "              sentiment = get_aspect_sentiment(sent, asp) # Sentiment Analysis\n",
        "              results.append((transcript_info[0], transcript_info[1], transcript_info[2], sent, asp, sentiment)) # Append to results\n",
        "\n",
        "  # Format returned DataFrame\n",
        "  df = pd.DataFrame(results, columns=[\"Bank\", \"Year\", \"Quarter\", \"Sentence\", \"Aspect\", \"Sentiment\"])\n",
        "\n",
        "  return df\n"
      ],
      "metadata": {
        "id": "6UU2S6_B_Y63"
      },
      "execution_count": null,
      "outputs": []
    },
    {
      "cell_type": "code",
      "source": [
        "\n",
        "def ABSA_pipeline(bank, bank_transcripts, bank_aspects):\n",
        "\n",
        "  # Define empty DataFrame\n",
        "  df = pd.DataFrame(columns=['Bank', 'Year', 'Quarter', 'Sentence', 'Aspect', 'Sentiment'])\n",
        "\n",
        "  # current_bank = None # Use this later to define which aspects are being analysed.\n",
        "\n",
        "  for transcript in tqdm(bank_transcripts, desc=f\"Analysing {bank} Transcripts\"):\n",
        "    # load transcript\n",
        "    transcript = load_json(path + transcript)\n",
        "\n",
        "    # Extract transcript info\n",
        "    transcript_info = [bank, transcript['Details'][0]['Year'], transcript['Details'][0]['quarter']]\n",
        "    # print(transcript_info)\n",
        "\n",
        "    # Clean transcript\n",
        "    input_transcript = make_continuous(transcript)\n",
        "    # print(input_transcript)\n",
        "\n",
        "    # Feed into machine\n",
        "    result_ABSA = run_ABSA(input_transcript, bank_aspects, transcript_info)\n",
        "\n",
        "    # update df\n",
        "    df = pd.concat([df, result_ABSA], ignore_index=True)\n",
        "\n",
        "  return df\n"
      ],
      "metadata": {
        "id": "jW4o8Lgth16E"
      },
      "execution_count": null,
      "outputs": []
    },
    {
      "cell_type": "code",
      "source": [
        "df_Citi = ABSA_pipeline(\"Citi\", Citi_transcripts, Citi_aspects)\n",
        "df_UBS = ABSA_pipeline(\"UBS\", UBS_transcripts, UBS_aspects)\n",
        "df_JPM = ABSA_pipeline(\"JPMorgan\", JPM_transcripts, JPM_aspects)"
      ],
      "metadata": {
        "colab": {
          "base_uri": "https://localhost:8080/"
        },
        "id": "g4vUzB7Er1Y8",
        "outputId": "1876db51-cde8-4edd-dd2d-5e1e88b64d00"
      },
      "execution_count": null,
      "outputs": [
        {
          "output_type": "stream",
          "name": "stderr",
          "text": [
            "Analysing Citi Transcripts: 100%|██████████| 8/8 [00:11<00:00,  1.39s/it]\n",
            "Analysing UBS Transcripts: 100%|██████████| 9/9 [00:05<00:00,  1.80it/s]\n",
            "Analysing JPMorgan Transcripts: 100%|██████████| 9/9 [00:05<00:00,  1.55it/s]\n"
          ]
        }
      ]
    },
    {
      "cell_type": "code",
      "source": [
        "# Concatenate all 3 DataFrames\n",
        "df_all = pd.concat([df_UBS, df_JPM, df_Citi], ignore_index=True)"
      ],
      "metadata": {
        "id": "0Wh2fRt7691Z"
      },
      "execution_count": null,
      "outputs": []
    },
    {
      "cell_type": "code",
      "source": [
        "df_all"
      ],
      "metadata": {
        "colab": {
          "base_uri": "https://localhost:8080/",
          "height": 411
        },
        "id": "LYa4F_6L7BWj",
        "outputId": "59051fc9-f338-441f-86f4-a74656acd73e"
      },
      "execution_count": null,
      "outputs": [
        {
          "output_type": "execute_result",
          "data": {
            "text/plain": [
              "     Bank  Year Quarter                                           Sentence  \\\n",
              "0     UBS  2023      Q1  In EMEA, clients continue to be cautious overa...   \n",
              "1     UBS  2023      Q1  As we think about the future of this business,...   \n",
              "2     UBS  2023      Q1  Activities outside of our strategic focus and ...   \n",
              "3     UBS  2023      Q1  We have a lot of work ahead of us to bring our...   \n",
              "4     UBS  2023      Q1  Slide 10 – Net interest income Moving to NII o...   \n",
              "..    ...   ...     ...                                                ...   \n",
              "797  Citi  2025      Q1  In terms of the curve and the NII guidance we ...   \n",
              "798  Citi  2025      Q1  In terms of the curve and the NII guidance we ...   \n",
              "799  Citi  2025      Q1  We like buying back and giving capital back to...   \n",
              "800  Citi  2025      Q1  We've been talking about optimizing use of cap...   \n",
              "801  Citi  2025      Q1  Obviously, regulatory capital hasn't changed i...   \n",
              "\n",
              "            Aspect Sentiment  \n",
              "0         interest  positive  \n",
              "1         interest   neutral  \n",
              "2         interest   neutral  \n",
              "3         interest   neutral  \n",
              "4         interest  positive  \n",
              "..             ...       ...  \n",
              "797       interest   neutral  \n",
              "798  interest rate   neutral  \n",
              "799        capital   neutral  \n",
              "800        capital   neutral  \n",
              "801        capital   neutral  \n",
              "\n",
              "[802 rows x 6 columns]"
            ],
            "text/html": [
              "\n",
              "  <div id=\"df-da20811a-778e-48fc-9e49-7908b29cdbcd\" class=\"colab-df-container\">\n",
              "    <div>\n",
              "<style scoped>\n",
              "    .dataframe tbody tr th:only-of-type {\n",
              "        vertical-align: middle;\n",
              "    }\n",
              "\n",
              "    .dataframe tbody tr th {\n",
              "        vertical-align: top;\n",
              "    }\n",
              "\n",
              "    .dataframe thead th {\n",
              "        text-align: right;\n",
              "    }\n",
              "</style>\n",
              "<table border=\"1\" class=\"dataframe\">\n",
              "  <thead>\n",
              "    <tr style=\"text-align: right;\">\n",
              "      <th></th>\n",
              "      <th>Bank</th>\n",
              "      <th>Year</th>\n",
              "      <th>Quarter</th>\n",
              "      <th>Sentence</th>\n",
              "      <th>Aspect</th>\n",
              "      <th>Sentiment</th>\n",
              "    </tr>\n",
              "  </thead>\n",
              "  <tbody>\n",
              "    <tr>\n",
              "      <th>0</th>\n",
              "      <td>UBS</td>\n",
              "      <td>2023</td>\n",
              "      <td>Q1</td>\n",
              "      <td>In EMEA, clients continue to be cautious overa...</td>\n",
              "      <td>interest</td>\n",
              "      <td>positive</td>\n",
              "    </tr>\n",
              "    <tr>\n",
              "      <th>1</th>\n",
              "      <td>UBS</td>\n",
              "      <td>2023</td>\n",
              "      <td>Q1</td>\n",
              "      <td>As we think about the future of this business,...</td>\n",
              "      <td>interest</td>\n",
              "      <td>neutral</td>\n",
              "    </tr>\n",
              "    <tr>\n",
              "      <th>2</th>\n",
              "      <td>UBS</td>\n",
              "      <td>2023</td>\n",
              "      <td>Q1</td>\n",
              "      <td>Activities outside of our strategic focus and ...</td>\n",
              "      <td>interest</td>\n",
              "      <td>neutral</td>\n",
              "    </tr>\n",
              "    <tr>\n",
              "      <th>3</th>\n",
              "      <td>UBS</td>\n",
              "      <td>2023</td>\n",
              "      <td>Q1</td>\n",
              "      <td>We have a lot of work ahead of us to bring our...</td>\n",
              "      <td>interest</td>\n",
              "      <td>neutral</td>\n",
              "    </tr>\n",
              "    <tr>\n",
              "      <th>4</th>\n",
              "      <td>UBS</td>\n",
              "      <td>2023</td>\n",
              "      <td>Q1</td>\n",
              "      <td>Slide 10 – Net interest income Moving to NII o...</td>\n",
              "      <td>interest</td>\n",
              "      <td>positive</td>\n",
              "    </tr>\n",
              "    <tr>\n",
              "      <th>...</th>\n",
              "      <td>...</td>\n",
              "      <td>...</td>\n",
              "      <td>...</td>\n",
              "      <td>...</td>\n",
              "      <td>...</td>\n",
              "      <td>...</td>\n",
              "    </tr>\n",
              "    <tr>\n",
              "      <th>797</th>\n",
              "      <td>Citi</td>\n",
              "      <td>2025</td>\n",
              "      <td>Q1</td>\n",
              "      <td>In terms of the curve and the NII guidance we ...</td>\n",
              "      <td>interest</td>\n",
              "      <td>neutral</td>\n",
              "    </tr>\n",
              "    <tr>\n",
              "      <th>798</th>\n",
              "      <td>Citi</td>\n",
              "      <td>2025</td>\n",
              "      <td>Q1</td>\n",
              "      <td>In terms of the curve and the NII guidance we ...</td>\n",
              "      <td>interest rate</td>\n",
              "      <td>neutral</td>\n",
              "    </tr>\n",
              "    <tr>\n",
              "      <th>799</th>\n",
              "      <td>Citi</td>\n",
              "      <td>2025</td>\n",
              "      <td>Q1</td>\n",
              "      <td>We like buying back and giving capital back to...</td>\n",
              "      <td>capital</td>\n",
              "      <td>neutral</td>\n",
              "    </tr>\n",
              "    <tr>\n",
              "      <th>800</th>\n",
              "      <td>Citi</td>\n",
              "      <td>2025</td>\n",
              "      <td>Q1</td>\n",
              "      <td>We've been talking about optimizing use of cap...</td>\n",
              "      <td>capital</td>\n",
              "      <td>neutral</td>\n",
              "    </tr>\n",
              "    <tr>\n",
              "      <th>801</th>\n",
              "      <td>Citi</td>\n",
              "      <td>2025</td>\n",
              "      <td>Q1</td>\n",
              "      <td>Obviously, regulatory capital hasn't changed i...</td>\n",
              "      <td>capital</td>\n",
              "      <td>neutral</td>\n",
              "    </tr>\n",
              "  </tbody>\n",
              "</table>\n",
              "<p>802 rows × 6 columns</p>\n",
              "</div>\n",
              "    <div class=\"colab-df-buttons\">\n",
              "\n",
              "  <div class=\"colab-df-container\">\n",
              "    <button class=\"colab-df-convert\" onclick=\"convertToInteractive('df-da20811a-778e-48fc-9e49-7908b29cdbcd')\"\n",
              "            title=\"Convert this dataframe to an interactive table.\"\n",
              "            style=\"display:none;\">\n",
              "\n",
              "  <svg xmlns=\"http://www.w3.org/2000/svg\" height=\"24px\" viewBox=\"0 -960 960 960\">\n",
              "    <path d=\"M120-120v-720h720v720H120Zm60-500h600v-160H180v160Zm220 220h160v-160H400v160Zm0 220h160v-160H400v160ZM180-400h160v-160H180v160Zm440 0h160v-160H620v160ZM180-180h160v-160H180v160Zm440 0h160v-160H620v160Z\"/>\n",
              "  </svg>\n",
              "    </button>\n",
              "\n",
              "  <style>\n",
              "    .colab-df-container {\n",
              "      display:flex;\n",
              "      gap: 12px;\n",
              "    }\n",
              "\n",
              "    .colab-df-convert {\n",
              "      background-color: #E8F0FE;\n",
              "      border: none;\n",
              "      border-radius: 50%;\n",
              "      cursor: pointer;\n",
              "      display: none;\n",
              "      fill: #1967D2;\n",
              "      height: 32px;\n",
              "      padding: 0 0 0 0;\n",
              "      width: 32px;\n",
              "    }\n",
              "\n",
              "    .colab-df-convert:hover {\n",
              "      background-color: #E2EBFA;\n",
              "      box-shadow: 0px 1px 2px rgba(60, 64, 67, 0.3), 0px 1px 3px 1px rgba(60, 64, 67, 0.15);\n",
              "      fill: #174EA6;\n",
              "    }\n",
              "\n",
              "    .colab-df-buttons div {\n",
              "      margin-bottom: 4px;\n",
              "    }\n",
              "\n",
              "    [theme=dark] .colab-df-convert {\n",
              "      background-color: #3B4455;\n",
              "      fill: #D2E3FC;\n",
              "    }\n",
              "\n",
              "    [theme=dark] .colab-df-convert:hover {\n",
              "      background-color: #434B5C;\n",
              "      box-shadow: 0px 1px 3px 1px rgba(0, 0, 0, 0.15);\n",
              "      filter: drop-shadow(0px 1px 2px rgba(0, 0, 0, 0.3));\n",
              "      fill: #FFFFFF;\n",
              "    }\n",
              "  </style>\n",
              "\n",
              "    <script>\n",
              "      const buttonEl =\n",
              "        document.querySelector('#df-da20811a-778e-48fc-9e49-7908b29cdbcd button.colab-df-convert');\n",
              "      buttonEl.style.display =\n",
              "        google.colab.kernel.accessAllowed ? 'block' : 'none';\n",
              "\n",
              "      async function convertToInteractive(key) {\n",
              "        const element = document.querySelector('#df-da20811a-778e-48fc-9e49-7908b29cdbcd');\n",
              "        const dataTable =\n",
              "          await google.colab.kernel.invokeFunction('convertToInteractive',\n",
              "                                                    [key], {});\n",
              "        if (!dataTable) return;\n",
              "\n",
              "        const docLinkHtml = 'Like what you see? Visit the ' +\n",
              "          '<a target=\"_blank\" href=https://colab.research.google.com/notebooks/data_table.ipynb>data table notebook</a>'\n",
              "          + ' to learn more about interactive tables.';\n",
              "        element.innerHTML = '';\n",
              "        dataTable['output_type'] = 'display_data';\n",
              "        await google.colab.output.renderOutput(dataTable, element);\n",
              "        const docLink = document.createElement('div');\n",
              "        docLink.innerHTML = docLinkHtml;\n",
              "        element.appendChild(docLink);\n",
              "      }\n",
              "    </script>\n",
              "  </div>\n",
              "\n",
              "\n",
              "    <div id=\"df-4a550d3c-8059-4442-a0a8-14c7043b81f1\">\n",
              "      <button class=\"colab-df-quickchart\" onclick=\"quickchart('df-4a550d3c-8059-4442-a0a8-14c7043b81f1')\"\n",
              "                title=\"Suggest charts\"\n",
              "                style=\"display:none;\">\n",
              "\n",
              "<svg xmlns=\"http://www.w3.org/2000/svg\" height=\"24px\"viewBox=\"0 0 24 24\"\n",
              "     width=\"24px\">\n",
              "    <g>\n",
              "        <path d=\"M19 3H5c-1.1 0-2 .9-2 2v14c0 1.1.9 2 2 2h14c1.1 0 2-.9 2-2V5c0-1.1-.9-2-2-2zM9 17H7v-7h2v7zm4 0h-2V7h2v10zm4 0h-2v-4h2v4z\"/>\n",
              "    </g>\n",
              "</svg>\n",
              "      </button>\n",
              "\n",
              "<style>\n",
              "  .colab-df-quickchart {\n",
              "      --bg-color: #E8F0FE;\n",
              "      --fill-color: #1967D2;\n",
              "      --hover-bg-color: #E2EBFA;\n",
              "      --hover-fill-color: #174EA6;\n",
              "      --disabled-fill-color: #AAA;\n",
              "      --disabled-bg-color: #DDD;\n",
              "  }\n",
              "\n",
              "  [theme=dark] .colab-df-quickchart {\n",
              "      --bg-color: #3B4455;\n",
              "      --fill-color: #D2E3FC;\n",
              "      --hover-bg-color: #434B5C;\n",
              "      --hover-fill-color: #FFFFFF;\n",
              "      --disabled-bg-color: #3B4455;\n",
              "      --disabled-fill-color: #666;\n",
              "  }\n",
              "\n",
              "  .colab-df-quickchart {\n",
              "    background-color: var(--bg-color);\n",
              "    border: none;\n",
              "    border-radius: 50%;\n",
              "    cursor: pointer;\n",
              "    display: none;\n",
              "    fill: var(--fill-color);\n",
              "    height: 32px;\n",
              "    padding: 0;\n",
              "    width: 32px;\n",
              "  }\n",
              "\n",
              "  .colab-df-quickchart:hover {\n",
              "    background-color: var(--hover-bg-color);\n",
              "    box-shadow: 0 1px 2px rgba(60, 64, 67, 0.3), 0 1px 3px 1px rgba(60, 64, 67, 0.15);\n",
              "    fill: var(--button-hover-fill-color);\n",
              "  }\n",
              "\n",
              "  .colab-df-quickchart-complete:disabled,\n",
              "  .colab-df-quickchart-complete:disabled:hover {\n",
              "    background-color: var(--disabled-bg-color);\n",
              "    fill: var(--disabled-fill-color);\n",
              "    box-shadow: none;\n",
              "  }\n",
              "\n",
              "  .colab-df-spinner {\n",
              "    border: 2px solid var(--fill-color);\n",
              "    border-color: transparent;\n",
              "    border-bottom-color: var(--fill-color);\n",
              "    animation:\n",
              "      spin 1s steps(1) infinite;\n",
              "  }\n",
              "\n",
              "  @keyframes spin {\n",
              "    0% {\n",
              "      border-color: transparent;\n",
              "      border-bottom-color: var(--fill-color);\n",
              "      border-left-color: var(--fill-color);\n",
              "    }\n",
              "    20% {\n",
              "      border-color: transparent;\n",
              "      border-left-color: var(--fill-color);\n",
              "      border-top-color: var(--fill-color);\n",
              "    }\n",
              "    30% {\n",
              "      border-color: transparent;\n",
              "      border-left-color: var(--fill-color);\n",
              "      border-top-color: var(--fill-color);\n",
              "      border-right-color: var(--fill-color);\n",
              "    }\n",
              "    40% {\n",
              "      border-color: transparent;\n",
              "      border-right-color: var(--fill-color);\n",
              "      border-top-color: var(--fill-color);\n",
              "    }\n",
              "    60% {\n",
              "      border-color: transparent;\n",
              "      border-right-color: var(--fill-color);\n",
              "    }\n",
              "    80% {\n",
              "      border-color: transparent;\n",
              "      border-right-color: var(--fill-color);\n",
              "      border-bottom-color: var(--fill-color);\n",
              "    }\n",
              "    90% {\n",
              "      border-color: transparent;\n",
              "      border-bottom-color: var(--fill-color);\n",
              "    }\n",
              "  }\n",
              "</style>\n",
              "\n",
              "      <script>\n",
              "        async function quickchart(key) {\n",
              "          const quickchartButtonEl =\n",
              "            document.querySelector('#' + key + ' button');\n",
              "          quickchartButtonEl.disabled = true;  // To prevent multiple clicks.\n",
              "          quickchartButtonEl.classList.add('colab-df-spinner');\n",
              "          try {\n",
              "            const charts = await google.colab.kernel.invokeFunction(\n",
              "                'suggestCharts', [key], {});\n",
              "          } catch (error) {\n",
              "            console.error('Error during call to suggestCharts:', error);\n",
              "          }\n",
              "          quickchartButtonEl.classList.remove('colab-df-spinner');\n",
              "          quickchartButtonEl.classList.add('colab-df-quickchart-complete');\n",
              "        }\n",
              "        (() => {\n",
              "          let quickchartButtonEl =\n",
              "            document.querySelector('#df-4a550d3c-8059-4442-a0a8-14c7043b81f1 button');\n",
              "          quickchartButtonEl.style.display =\n",
              "            google.colab.kernel.accessAllowed ? 'block' : 'none';\n",
              "        })();\n",
              "      </script>\n",
              "    </div>\n",
              "\n",
              "  <div id=\"id_de454404-8d19-4a55-914f-7e2e90bde278\">\n",
              "    <style>\n",
              "      .colab-df-generate {\n",
              "        background-color: #E8F0FE;\n",
              "        border: none;\n",
              "        border-radius: 50%;\n",
              "        cursor: pointer;\n",
              "        display: none;\n",
              "        fill: #1967D2;\n",
              "        height: 32px;\n",
              "        padding: 0 0 0 0;\n",
              "        width: 32px;\n",
              "      }\n",
              "\n",
              "      .colab-df-generate:hover {\n",
              "        background-color: #E2EBFA;\n",
              "        box-shadow: 0px 1px 2px rgba(60, 64, 67, 0.3), 0px 1px 3px 1px rgba(60, 64, 67, 0.15);\n",
              "        fill: #174EA6;\n",
              "      }\n",
              "\n",
              "      [theme=dark] .colab-df-generate {\n",
              "        background-color: #3B4455;\n",
              "        fill: #D2E3FC;\n",
              "      }\n",
              "\n",
              "      [theme=dark] .colab-df-generate:hover {\n",
              "        background-color: #434B5C;\n",
              "        box-shadow: 0px 1px 3px 1px rgba(0, 0, 0, 0.15);\n",
              "        filter: drop-shadow(0px 1px 2px rgba(0, 0, 0, 0.3));\n",
              "        fill: #FFFFFF;\n",
              "      }\n",
              "    </style>\n",
              "    <button class=\"colab-df-generate\" onclick=\"generateWithVariable('df_all')\"\n",
              "            title=\"Generate code using this dataframe.\"\n",
              "            style=\"display:none;\">\n",
              "\n",
              "  <svg xmlns=\"http://www.w3.org/2000/svg\" height=\"24px\"viewBox=\"0 0 24 24\"\n",
              "       width=\"24px\">\n",
              "    <path d=\"M7,19H8.4L18.45,9,17,7.55,7,17.6ZM5,21V16.75L18.45,3.32a2,2,0,0,1,2.83,0l1.4,1.43a1.91,1.91,0,0,1,.58,1.4,1.91,1.91,0,0,1-.58,1.4L9.25,21ZM18.45,9,17,7.55Zm-12,3A5.31,5.31,0,0,0,4.9,8.1,5.31,5.31,0,0,0,1,6.5,5.31,5.31,0,0,0,4.9,4.9,5.31,5.31,0,0,0,6.5,1,5.31,5.31,0,0,0,8.1,4.9,5.31,5.31,0,0,0,12,6.5,5.46,5.46,0,0,0,6.5,12Z\"/>\n",
              "  </svg>\n",
              "    </button>\n",
              "    <script>\n",
              "      (() => {\n",
              "      const buttonEl =\n",
              "        document.querySelector('#id_de454404-8d19-4a55-914f-7e2e90bde278 button.colab-df-generate');\n",
              "      buttonEl.style.display =\n",
              "        google.colab.kernel.accessAllowed ? 'block' : 'none';\n",
              "\n",
              "      buttonEl.onclick = () => {\n",
              "        google.colab.notebook.generateWithVariable('df_all');\n",
              "      }\n",
              "      })();\n",
              "    </script>\n",
              "  </div>\n",
              "\n",
              "    </div>\n",
              "  </div>\n"
            ],
            "application/vnd.google.colaboratory.intrinsic+json": {
              "type": "dataframe",
              "variable_name": "df_all",
              "summary": "{\n  \"name\": \"df_all\",\n  \"rows\": 802,\n  \"fields\": [\n    {\n      \"column\": \"Bank\",\n      \"properties\": {\n        \"dtype\": \"category\",\n        \"num_unique_values\": 3,\n        \"samples\": [\n          \"UBS\",\n          \"JPMorgan\",\n          \"Citi\"\n        ],\n        \"semantic_type\": \"\",\n        \"description\": \"\"\n      }\n    },\n    {\n      \"column\": \"Year\",\n      \"properties\": {\n        \"dtype\": \"object\",\n        \"num_unique_values\": 3,\n        \"samples\": [\n          \"2023\",\n          \"2024\",\n          \"2025\"\n        ],\n        \"semantic_type\": \"\",\n        \"description\": \"\"\n      }\n    },\n    {\n      \"column\": \"Quarter\",\n      \"properties\": {\n        \"dtype\": \"category\",\n        \"num_unique_values\": 4,\n        \"samples\": [\n          \"Q2\",\n          \"Q4\",\n          \"Q1\"\n        ],\n        \"semantic_type\": \"\",\n        \"description\": \"\"\n      }\n    },\n    {\n      \"column\": \"Sentence\",\n      \"properties\": {\n        \"dtype\": \"string\",\n        \"num_unique_values\": 737,\n        \"samples\": [\n          \"Our capital, liquidity and reserves are robust.\",\n          \"On the market share one, as you know, we got regulatory approvals to basically not be subject to any competitive constraints, and that was done just to secure and be able to communicate and to be able to place.\",\n          \"We ended the quarter with a 13.3% CET1 capital ratio, approximately 100 basis points above our regulatory capital requirement of 12.3%.\"\n        ],\n        \"semantic_type\": \"\",\n        \"description\": \"\"\n      }\n    },\n    {\n      \"column\": \"Aspect\",\n      \"properties\": {\n        \"dtype\": \"category\",\n        \"num_unique_values\": 24,\n        \"samples\": [\n          \"innovation\",\n          \"cyber\",\n          \"interest\"\n        ],\n        \"semantic_type\": \"\",\n        \"description\": \"\"\n      }\n    },\n    {\n      \"column\": \"Sentiment\",\n      \"properties\": {\n        \"dtype\": \"category\",\n        \"num_unique_values\": 3,\n        \"samples\": [\n          \"positive\",\n          \"neutral\",\n          \"negative\"\n        ],\n        \"semantic_type\": \"\",\n        \"description\": \"\"\n      }\n    }\n  ]\n}"
            }
          },
          "metadata": {},
          "execution_count": 129
        }
      ]
    },
    {
      "cell_type": "markdown",
      "source": [
        "# Results\n"
      ],
      "metadata": {
        "id": "c9OSyvHC5LES"
      }
    },
    {
      "cell_type": "code",
      "source": [
        "\n",
        "for df in [df_UBS, df_JPM, df_Citi]:\n",
        "    df['Aspect'] = df['Aspect'].str.strip()\n",
        "\n",
        "# Strip the whitespace from the original aspect search\n",
        "UBS_aspects   = [a.strip() for a in UBS_aspects]\n",
        "JPM_aspects   = [a.strip() for a in JPM_aspects]\n",
        "Citi_aspects  = [a.strip() for a in Citi_aspects]\n",
        "\n",
        "# Create combined DataFrame\n",
        "df_all = pd.concat([df_UBS, df_JPM, df_Citi], ignore_index=True)\n",
        "\n",
        "# banks = ['UBS', 'JPMorgan', 'Citi', 'All']\n",
        "banks = ['All']\n",
        "\n",
        "for bank in banks:\n",
        "\n",
        "    # Select DataFrame and aspect list\n",
        "    if bank == \"UBS\":\n",
        "        df_bank      = df_UBS\n",
        "        select_aspects = UBS_aspects\n",
        "        bank_label   = \"UBS\"\n",
        "    elif bank == \"JPMorgan\":\n",
        "        df_bank      = df_JPM\n",
        "        select_aspects = JPM_aspects\n",
        "        bank_label   = \"JPMorgan\"\n",
        "    elif bank == \"Citi\":\n",
        "        df_bank      = df_Citi\n",
        "        select_aspects = Citi_aspects\n",
        "        bank_label   = \"Citibank\"\n",
        "    elif bank == \"All\":\n",
        "        df_bank      = df_all\n",
        "        select_aspects = UBS_aspects + JPM_aspects + Citi_aspects\n",
        "        # deduplicste and preserving the order\n",
        "        select_aspects = list(dict.fromkeys(select_aspects))\n",
        "        bank_label   = \"All\"\n",
        "    else:\n",
        "        raise ValueError(f\"Bank '{bank}' not recognised.\")\n",
        "\n",
        "    # Define color mapping\n",
        "    sentiment_colors = {\n",
        "        \"negative\": \"orange\",\n",
        "        \"neutral\":  \"grey\",\n",
        "        \"positive\": \"cornflowerblue\"\n",
        "    }\n",
        "\n",
        "    # Filter to only chosen aspects\n",
        "    filtered_df = df_bank[df_bank['Aspect'].isin(select_aspects)]\n",
        "\n",
        "    # Build the count table\n",
        "    count_table = (\n",
        "        filtered_df\n",
        "        .groupby(['Aspect', 'Sentiment'])\n",
        "        .size()\n",
        "        .unstack(fill_value=0)\n",
        "    )\n",
        "\n",
        "    # Reindex to the desired aspect order\n",
        "    count_table = count_table.reindex(select_aspects, fill_value=0)\n",
        "\n",
        "    # Ensure sentiment columns in the right order\n",
        "    count_table = count_table[[\"negative\", \"neutral\", \"positive\"]]\n",
        "\n",
        "    # Sort rows by total mentions\n",
        "    count_table = count_table.loc[\n",
        "        count_table.sum(axis=1).sort_values(ascending=False).index\n",
        "    ]\n",
        "\n",
        "    count_table = count_table.iloc[:12]\n",
        "\n",
        "    # Plot\n",
        "    ax = count_table.plot(\n",
        "        kind='bar',\n",
        "        figsize=(10, 6),\n",
        "        color=[sentiment_colors[s] for s in count_table.columns]\n",
        "    )\n",
        "\n",
        "    # Formatting\n",
        "    plt.title(f\"Sentiment Counts per Aspect\") # plt.title(f\"Sentiment Counts per Aspect: {bank_label}\")\n",
        "    plt.xlabel(\"Aspect\")\n",
        "    plt.ylabel(\"Count\")\n",
        "    plt.xticks(rotation=45)\n",
        "    plt.legend(title=\"Sentiment\")\n",
        "    plt.grid(axis='y', linestyle='--', alpha=0.5)\n",
        "    plt.tight_layout()\n",
        "    plt.show()"
      ],
      "metadata": {
        "colab": {
          "base_uri": "https://localhost:8080/",
          "height": 529
        },
        "id": "HkIXpfwy2ZBi",
        "outputId": "3a32833e-7106-4be6-b17f-444b4843eeb3"
      },
      "execution_count": null,
      "outputs": [
        {
          "output_type": "display_data",
          "data": {
            "text/plain": [
              "<Figure size 1000x600 with 1 Axes>"
            ],
            "image/png": "[encoded data removed]"
          },
          "metadata": {}
        }
      ]
    },
    {
      "cell_type": "code",
      "source": [
        "# aspects = [\"interest\", 'rate', 'interest rate']\n",
        "aspects = ['capital', 'interest', 'loan']\n",
        "\n",
        "bank_df = df_all\n",
        "\n",
        "for aspect in aspects:\n",
        "\n",
        "\n",
        "  bank_df['Aspect'] = bank_df['Aspect'].str.strip()\n",
        "\n",
        "  # Filter for the \"interest\" aspect\n",
        "  df_interest = bank_df[bank_df['Aspect'] == aspect]\n",
        "\n",
        "  # Group by Year, Quarter, and Sentiment\n",
        "  grouped = df_interest.groupby(['Year', 'Quarter', 'Sentiment']).size().reset_index(name='Count')\n",
        "\n",
        "  # Combine Year and Quarter into a single column\n",
        "  grouped['Period'] = grouped['Year'].astype(str) + \" \" + grouped['Quarter']\n",
        "\n",
        "  # Pivot the data to have sentiments as columns\n",
        "  pivot = grouped.pivot(index='Period', columns='Sentiment', values='Count').fillna(0)\n",
        "\n",
        "  # Ensure consistent column order (and fill missing sentiments if any)\n",
        "  for sentiment in ['negative', 'positive', 'neutral']:\n",
        "      if sentiment not in pivot.columns:\n",
        "          pivot[sentiment] = 0\n",
        "\n",
        "  pivot = pivot[['negative', 'positive', 'neutral']]  # Ensure column order\n",
        "\n",
        "  # Define color mapping\n",
        "  sentiment_colors = [\"orange\", \"cornflowerblue\", \"grey\"]\n",
        "\n",
        "  # Plot\n",
        "\n",
        "  pivot.plot(kind='bar', stacked=True, figsize=(10, 6), color=sentiment_colors)\n",
        "  # pivot.plot(kind='line', marker='o', figsize=(10, 6), color=sentiment_colors)\n",
        "\n",
        "  plt.title(f\"Sentiment on '{aspect}' aspect per quarter\")\n",
        "  plt.xlabel(\"Quarter\")\n",
        "  plt.ylabel(\"Number of Mentions\")\n",
        "  plt.xticks(rotation=45)\n",
        "  plt.legend(title=\"Sentiment\")\n",
        "  plt.tight_layout()\n",
        "  plt.grid(axis='y', linestyle='--', alpha=0.5)\n",
        "  plt.show()\n"
      ],
      "metadata": {
        "colab": {
          "base_uri": "https://localhost:8080/",
          "height": 1000
        },
        "id": "h11h7sbK3OH_",
        "outputId": "232d4a10-b044-4455-9af5-9da411efd3f3"
      },
      "execution_count": null,
      "outputs": [
        {
          "output_type": "display_data",
          "data": {
            "text/plain": [
              "<Figure size 1000x600 with 1 Axes>"
            ],
            "image/png": "[encoded data removed]"
          },
          "metadata": {}
        },
        {
          "output_type": "display_data",
          "data": {
            "text/plain": [
              "<Figure size 1000x600 with 1 Axes>"
            ],
            "image/png": "[encoded data removed]"
          },
          "metadata": {}
        },
        {
          "output_type": "display_data",
          "data": {
            "text/plain": [
              "<Figure size 1000x600 with 1 Axes>"
            ],
            "image/png": "[encoded data removed]"
          },
          "metadata": {}
        }
      ]
    },
    {
      "cell_type": "code",
      "source": [
        "bank = 'All'\n",
        "\n",
        "if bank == \"UBS\":\n",
        "  df_bank = df_UBS\n",
        "  bank_label = \"UBS\"\n",
        "elif bank == \"JPMorgan\":\n",
        "  df_bank = df_JPM\n",
        "  bank_label = \"JPMorgan\"\n",
        "elif bank == \"Citi\":\n",
        "  df_bank = df_Citi\n",
        "  bank_label = \"Citibank\"\n",
        "elif bank == \"All\":\n",
        "  df_bank = df_all\n",
        "  bank_label = \"All\"\n",
        "else:\n",
        "  raise ValueError(f\"Bank '{bank}' not recognised. Options: 'UBS', 'JPMorgan', 'Citi'.\")\n",
        "\n",
        "print((df_bank['Sentiment'].value_counts()['negative']/(df_bank['Sentiment'].value_counts()['negative'] + df_bank['Sentiment'].value_counts()['positive']))*100)"
      ],
      "metadata": {
        "colab": {
          "base_uri": "https://localhost:8080/"
        },
        "id": "dW6unAO0kPUK",
        "outputId": "fccedeb8-6c3c-4b84-d037-94607cb1d1df"
      },
      "execution_count": null,
      "outputs": [
        {
          "output_type": "stream",
          "name": "stdout",
          "text": [
            "33.18385650224215\n"
          ]
        }
      ]
    },
    {
      "cell_type": "code",
      "source": [
        "print(path)"
      ],
      "metadata": {
        "colab": {
          "base_uri": "https://localhost:8080/"
        },
        "id": "7O-3uGPQ_yI-",
        "outputId": "9d34d624-86d8-4efa-fc99-dbab454d8618"
      },
      "execution_count": null,
      "outputs": [
        {
          "output_type": "stream",
          "name": "stdout",
          "text": [
            "/content/drive/MyDrive/Colab Notebooks/EP/t_processed/\n"
          ]
        }
      ]
    },
    {
      "cell_type": "code",
      "source": [
        "# save df_all as a csv file\n",
        "save_path = \"/content/drive/MyDrive/Colab Notebooks/EP/\"\n",
        "df_all.to_csv(save_path + 'df_all.csv', index=False)"
      ],
      "metadata": {
        "id": "z8OESCdykLXu"
      },
      "execution_count": null,
      "outputs": []
    },
    {
      "cell_type": "code",
      "source": [],
      "metadata": {
        "id": "1cuXJGAd_9dN"
      },
      "execution_count": null,
      "outputs": []
    }
  ]
}